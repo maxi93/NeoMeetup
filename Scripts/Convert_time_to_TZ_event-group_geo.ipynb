{
 "cells": [
  {
   "cell_type": "code",
   "execution_count": 1,
   "metadata": {},
   "outputs": [],
   "source": [
    "import pandas as pd\n",
    "from pytz import country_timezones\n",
    "import time\n",
    "import numpy as np\n",
    "import timezonefinder\n",
    "from datetime import datetime as dt\n",
    "import pytz\n",
    "import calendar\n",
    "import seaborn as sns\n",
    "%matplotlib inline\n",
    "from matplotlib import rcParams"
   ]
  },
  {
   "cell_type": "code",
   "execution_count": 2,
   "metadata": {},
   "outputs": [],
   "source": [
    "start_ini = time.time() #check time"
   ]
  },
  {
   "cell_type": "code",
   "execution_count": 3,
   "metadata": {},
   "outputs": [],
   "source": [
    "import warnings\n",
    "warnings.filterwarnings('ignore') #remove warning"
   ]
  },
  {
   "cell_type": "code",
   "execution_count": 4,
   "metadata": {
    "scrolled": true
   },
   "outputs": [
    {
     "data": {
      "text/html": [
       "<div>\n",
       "<style scoped>\n",
       "    .dataframe tbody tr th:only-of-type {\n",
       "        vertical-align: middle;\n",
       "    }\n",
       "\n",
       "    .dataframe tbody tr th {\n",
       "        vertical-align: top;\n",
       "    }\n",
       "\n",
       "    .dataframe thead th {\n",
       "        text-align: right;\n",
       "    }\n",
       "</style>\n",
       "<table border=\"1\" class=\"dataframe\">\n",
       "  <thead>\n",
       "    <tr style=\"text-align: right;\">\n",
       "      <th></th>\n",
       "      <th>name</th>\n",
       "      <th>time</th>\n",
       "      <th>country</th>\n",
       "      <th>state</th>\n",
       "      <th>lon</th>\n",
       "      <th>lat</th>\n",
       "    </tr>\n",
       "  </thead>\n",
       "  <tbody>\n",
       "    <tr>\n",
       "      <th>0</th>\n",
       "      <td>\bLunch meetup at Shanghai Slims 13th April Sat...</td>\n",
       "      <td>1.555128e+12</td>\n",
       "      <td>cn</td>\n",
       "      <td>NONE</td>\n",
       "      <td>121.47</td>\n",
       "      <td>31.23</td>\n",
       "    </tr>\n",
       "    <tr>\n",
       "      <th>1</th>\n",
       "      <td>\\t Meetup Salud M\\u00f3vil, IA Salud - Observa...</td>\n",
       "      <td>1.554413e+12</td>\n",
       "      <td>co</td>\n",
       "      <td>NONE</td>\n",
       "      <td>-75.59</td>\n",
       "      <td>6.25</td>\n",
       "    </tr>\n",
       "    <tr>\n",
       "      <th>2</th>\n",
       "      <td>\\t Rob Thomas: Chip Tooth Tour</td>\n",
       "      <td>1.560213e+12</td>\n",
       "      <td>us</td>\n",
       "      <td>CO</td>\n",
       "      <td>-105.08</td>\n",
       "      <td>39.7</td>\n",
       "    </tr>\n",
       "    <tr>\n",
       "      <th>3</th>\n",
       "      <td>\\tHayden Island</td>\n",
       "      <td>1.554568e+12</td>\n",
       "      <td>us</td>\n",
       "      <td>OR</td>\n",
       "      <td>-122.77</td>\n",
       "      <td>45.44</td>\n",
       "    </tr>\n",
       "    <tr>\n",
       "      <th>4</th>\n",
       "      <td>\\tNorth - University of Portland</td>\n",
       "      <td>1.555173e+12</td>\n",
       "      <td>us</td>\n",
       "      <td>OR</td>\n",
       "      <td>-122.77</td>\n",
       "      <td>45.44</td>\n",
       "    </tr>\n",
       "  </tbody>\n",
       "</table>\n",
       "</div>"
      ],
      "text/plain": [
       "                                                name          time country  \\\n",
       "0  \bLunch meetup at Shanghai Slims 13th April Sat...  1.555128e+12      cn   \n",
       "1  \\t Meetup Salud M\\u00f3vil, IA Salud - Observa...  1.554413e+12      co   \n",
       "2                     \\t Rob Thomas: Chip Tooth Tour  1.560213e+12      us   \n",
       "3                                    \\tHayden Island  1.554568e+12      us   \n",
       "4                   \\tNorth - University of Portland  1.555173e+12      us   \n",
       "\n",
       "  state      lon    lat  \n",
       "0  NONE   121.47  31.23  \n",
       "1  NONE   -75.59   6.25  \n",
       "2    CO  -105.08   39.7  \n",
       "3    OR  -122.77  45.44  \n",
       "4    OR  -122.77  45.44  "
      ]
     },
     "execution_count": 4,
     "metadata": {},
     "output_type": "execute_result"
    }
   ],
   "source": [
    "#import dataset\n",
    "df = pd.read_csv('https://media.githubusercontent.com/media/DBertazioli/NeoMeetup/master/csv/exported_queries/Distribuzione_temporale_eventi.csv')\n",
    "df.head()"
   ]
  },
  {
   "cell_type": "code",
   "execution_count": 5,
   "metadata": {},
   "outputs": [
    {
     "data": {
      "text/html": [
       "<div>\n",
       "<style scoped>\n",
       "    .dataframe tbody tr th:only-of-type {\n",
       "        vertical-align: middle;\n",
       "    }\n",
       "\n",
       "    .dataframe tbody tr th {\n",
       "        vertical-align: top;\n",
       "    }\n",
       "\n",
       "    .dataframe thead th {\n",
       "        text-align: right;\n",
       "    }\n",
       "</style>\n",
       "<table border=\"1\" class=\"dataframe\">\n",
       "  <thead>\n",
       "    <tr style=\"text-align: right;\">\n",
       "      <th></th>\n",
       "      <th>name</th>\n",
       "      <th>time</th>\n",
       "      <th>country</th>\n",
       "      <th>state</th>\n",
       "      <th>lon</th>\n",
       "      <th>lat</th>\n",
       "    </tr>\n",
       "  </thead>\n",
       "  <tbody>\n",
       "    <tr>\n",
       "      <th>0</th>\n",
       "      <td>\bLunch meetup at Shanghai Slims 13th April Sat...</td>\n",
       "      <td>1.555128e+12</td>\n",
       "      <td>cn</td>\n",
       "      <td>none</td>\n",
       "      <td>121.47</td>\n",
       "      <td>31.23</td>\n",
       "    </tr>\n",
       "    <tr>\n",
       "      <th>1</th>\n",
       "      <td>\\t Meetup Salud M\\u00f3vil, IA Salud - Observa...</td>\n",
       "      <td>1.554413e+12</td>\n",
       "      <td>co</td>\n",
       "      <td>none</td>\n",
       "      <td>-75.59</td>\n",
       "      <td>6.25</td>\n",
       "    </tr>\n",
       "    <tr>\n",
       "      <th>5</th>\n",
       "      <td>\\tPhunsukh Wangdu Isolated Camping</td>\n",
       "      <td>1.554532e+12</td>\n",
       "      <td>in</td>\n",
       "      <td>none</td>\n",
       "      <td>77.56</td>\n",
       "      <td>12.97</td>\n",
       "    </tr>\n",
       "    <tr>\n",
       "      <th>6</th>\n",
       "      <td>\\tSevern Shires Way part 4, Farnborough to Mid...</td>\n",
       "      <td>1.554628e+12</td>\n",
       "      <td>gb</td>\n",
       "      <td>none</td>\n",
       "      <td>-1.26</td>\n",
       "      <td>51.76</td>\n",
       "    </tr>\n",
       "    <tr>\n",
       "      <th>9</th>\n",
       "      <td>\\tWine and Paint Party - Unicorn Painting</td>\n",
       "      <td>1.555206e+12</td>\n",
       "      <td>nz</td>\n",
       "      <td>none</td>\n",
       "      <td>174.76</td>\n",
       "      <td>-36.85</td>\n",
       "    </tr>\n",
       "  </tbody>\n",
       "</table>\n",
       "</div>"
      ],
      "text/plain": [
       "                                                name          time country  \\\n",
       "0  \bLunch meetup at Shanghai Slims 13th April Sat...  1.555128e+12      cn   \n",
       "1  \\t Meetup Salud M\\u00f3vil, IA Salud - Observa...  1.554413e+12      co   \n",
       "5                 \\tPhunsukh Wangdu Isolated Camping  1.554532e+12      in   \n",
       "6  \\tSevern Shires Way part 4, Farnborough to Mid...  1.554628e+12      gb   \n",
       "9          \\tWine and Paint Party - Unicorn Painting  1.555206e+12      nz   \n",
       "\n",
       "  state     lon    lat  \n",
       "0  none  121.47  31.23  \n",
       "1  none  -75.59   6.25  \n",
       "5  none   77.56  12.97  \n",
       "6  none   -1.26  51.76  \n",
       "9  none  174.76 -36.85  "
      ]
     },
     "execution_count": 5,
     "metadata": {},
     "output_type": "execute_result"
    }
   ],
   "source": [
    "df['state'] = df['state'].str.lower() #lower charcter 'NONE'-->'none'\n",
    "df[df['state'] == 'none'].head()"
   ]
  },
  {
   "cell_type": "code",
   "execution_count": 6,
   "metadata": {},
   "outputs": [],
   "source": [
    "df.loc[df['state'] == 'none', 'state'] = df['country'] #fill the state's value with country's value if there was 'none'"
   ]
  },
  {
   "cell_type": "code",
   "execution_count": 7,
   "metadata": {},
   "outputs": [
    {
     "data": {
      "text/plain": [
       "name        76\n",
       "time       144\n",
       "country    144\n",
       "state      144\n",
       "lon        144\n",
       "lat        144\n",
       "dtype: int64"
      ]
     },
     "execution_count": 7,
     "metadata": {},
     "output_type": "execute_result"
    }
   ],
   "source": [
    "df.isnull().sum() #check sum of nan fro columns"
   ]
  },
  {
   "cell_type": "code",
   "execution_count": 8,
   "metadata": {},
   "outputs": [],
   "source": [
    "df = df.dropna() #rm nan value for all df (rows)"
   ]
  },
  {
   "cell_type": "code",
   "execution_count": 9,
   "metadata": {},
   "outputs": [
    {
     "data": {
      "text/plain": [
       "name       False\n",
       "time       False\n",
       "country    False\n",
       "state      False\n",
       "lon        False\n",
       "lat        False\n",
       "dtype: bool"
      ]
     },
     "execution_count": 9,
     "metadata": {},
     "output_type": "execute_result"
    }
   ],
   "source": [
    "df.isnull().any() #check"
   ]
  },
  {
   "cell_type": "code",
   "execution_count": 10,
   "metadata": {},
   "outputs": [],
   "source": [
    "#df.loc[df['state'] == 'none', 'state'] = df.fillna(value=pd.np.nan, inplace=True) \n",
    "#it's only if would take nan into country that do not have a state"
   ]
  },
  {
   "cell_type": "code",
   "execution_count": 11,
   "metadata": {},
   "outputs": [
    {
     "data": {
      "text/plain": [
       "name       0\n",
       "time       0\n",
       "country    0\n",
       "state      0\n",
       "lon        0\n",
       "lat        0\n",
       "dtype: int64"
      ]
     },
     "execution_count": 11,
     "metadata": {},
     "output_type": "execute_result"
    }
   ],
   "source": [
    "df.isnull().sum() #check"
   ]
  },
  {
   "cell_type": "code",
   "execution_count": 12,
   "metadata": {
    "scrolled": true
   },
   "outputs": [
    {
     "data": {
      "text/plain": [
       "name       False\n",
       "time       False\n",
       "country    False\n",
       "state      False\n",
       "lon        False\n",
       "lat        False\n",
       "dtype: bool"
      ]
     },
     "execution_count": 12,
     "metadata": {},
     "output_type": "execute_result"
    }
   ],
   "source": [
    "df.isnull().any() #another check :/"
   ]
  },
  {
   "cell_type": "code",
   "execution_count": 13,
   "metadata": {},
   "outputs": [
    {
     "data": {
      "text/plain": [
       "name            0\n",
       "time            0\n",
       "country         0\n",
       "state           0\n",
       "lon            98\n",
       "lat        182224\n",
       "dtype: int64"
      ]
     },
     "execution_count": 13,
     "metadata": {},
     "output_type": "execute_result"
    }
   ],
   "source": [
    "#same method for cheò nan value into coordinates\n",
    "df['lon'] = df['lon'].str.lower()\n",
    "df['lat'] = df['lat'].str.lower()\n",
    "df.loc[df['lon'] == 'none', 'lon'] = df.fillna(value=pd.np.nan, inplace=True)\n",
    "df.loc[df['lat'] == 'none', 'lat'] = df.fillna(value=pd.np.nan, inplace=True)\n",
    "df.isnull().sum()"
   ]
  },
  {
   "cell_type": "code",
   "execution_count": 14,
   "metadata": {
    "scrolled": true
   },
   "outputs": [
    {
     "data": {
      "text/plain": [
       "name       0\n",
       "time       0\n",
       "country    0\n",
       "state      0\n",
       "lon        0\n",
       "lat        0\n",
       "dtype: int64"
      ]
     },
     "execution_count": 14,
     "metadata": {},
     "output_type": "execute_result"
    }
   ],
   "source": [
    "df = df.dropna() #remove this nan\n",
    "df.isnull().sum()"
   ]
  },
  {
   "cell_type": "code",
   "execution_count": 15,
   "metadata": {
    "scrolled": true
   },
   "outputs": [
    {
     "data": {
      "text/html": [
       "<div>\n",
       "<style scoped>\n",
       "    .dataframe tbody tr th:only-of-type {\n",
       "        vertical-align: middle;\n",
       "    }\n",
       "\n",
       "    .dataframe tbody tr th {\n",
       "        vertical-align: top;\n",
       "    }\n",
       "\n",
       "    .dataframe thead th {\n",
       "        text-align: right;\n",
       "    }\n",
       "</style>\n",
       "<table border=\"1\" class=\"dataframe\">\n",
       "  <thead>\n",
       "    <tr style=\"text-align: right;\">\n",
       "      <th></th>\n",
       "      <th>name</th>\n",
       "      <th>time</th>\n",
       "      <th>country</th>\n",
       "      <th>state</th>\n",
       "      <th>lon</th>\n",
       "      <th>lat</th>\n",
       "    </tr>\n",
       "  </thead>\n",
       "  <tbody>\n",
       "    <tr>\n",
       "      <th>262139</th>\n",
       "      <td>The Big Muslim Variety Show 2019</td>\n",
       "      <td>1.555780e+12</td>\n",
       "      <td>gb</td>\n",
       "      <td>gb</td>\n",
       "      <td>-0.09</td>\n",
       "      <td>51.51</td>\n",
       "    </tr>\n",
       "    <tr>\n",
       "      <th>262140</th>\n",
       "      <td>The Big Picture: Review Q&amp;A</td>\n",
       "      <td>1.557077e+12</td>\n",
       "      <td>us</td>\n",
       "      <td>ca</td>\n",
       "      <td>-118.29</td>\n",
       "      <td>34.17</td>\n",
       "    </tr>\n",
       "    <tr>\n",
       "      <th>262141</th>\n",
       "      <td>The Big Picture: Review Q&amp;A</td>\n",
       "      <td>1.557076e+12</td>\n",
       "      <td>us</td>\n",
       "      <td>ca</td>\n",
       "      <td>-118.05</td>\n",
       "      <td>34.16</td>\n",
       "    </tr>\n",
       "    <tr>\n",
       "      <th>262142</th>\n",
       "      <td>The Big Results Guide : Your key to digital ma...</td>\n",
       "      <td>1.556154e+12</td>\n",
       "      <td>us</td>\n",
       "      <td>nv</td>\n",
       "      <td>-119.81</td>\n",
       "      <td>39.53</td>\n",
       "    </tr>\n",
       "    <tr>\n",
       "      <th>262143</th>\n",
       "      <td>The Big Return-Badminton in London - Midweek  ...</td>\n",
       "      <td>1.555525e+12</td>\n",
       "      <td>gb</td>\n",
       "      <td>gb</td>\n",
       "      <td>-0.22</td>\n",
       "      <td>51.52</td>\n",
       "    </tr>\n",
       "  </tbody>\n",
       "</table>\n",
       "</div>"
      ],
      "text/plain": [
       "                                                     name          time  \\\n",
       "262139                   The Big Muslim Variety Show 2019  1.555780e+12   \n",
       "262140                        The Big Picture: Review Q&A  1.557077e+12   \n",
       "262141                        The Big Picture: Review Q&A  1.557076e+12   \n",
       "262142  The Big Results Guide : Your key to digital ma...  1.556154e+12   \n",
       "262143  The Big Return-Badminton in London - Midweek  ...  1.555525e+12   \n",
       "\n",
       "       country state      lon    lat  \n",
       "262139      gb    gb    -0.09  51.51  \n",
       "262140      us    ca  -118.29  34.17  \n",
       "262141      us    ca  -118.05  34.16  \n",
       "262142      us    nv  -119.81  39.53  \n",
       "262143      gb    gb    -0.22  51.52  "
      ]
     },
     "execution_count": 15,
     "metadata": {},
     "output_type": "execute_result"
    }
   ],
   "source": [
    "df.tail() #df clean"
   ]
  },
  {
   "cell_type": "code",
   "execution_count": 16,
   "metadata": {
    "scrolled": true
   },
   "outputs": [
    {
     "data": {
      "text/plain": [
       "name        object\n",
       "time       float64\n",
       "country     object\n",
       "state       object\n",
       "lon        float64\n",
       "lat        float64\n",
       "dtype: object"
      ]
     },
     "execution_count": 16,
     "metadata": {},
     "output_type": "execute_result"
    }
   ],
   "source": [
    "df['lon'] = df['lon'].astype(float) #convert coordinates into float for problem into cell below (timezonefinder)\n",
    "df['lat'] = df['lat'].astype(float)\n",
    "df.dtypes"
   ]
  },
  {
   "cell_type": "code",
   "execution_count": 17,
   "metadata": {},
   "outputs": [],
   "source": [
    "df = df[[c for c in df if c not in ['lat','lon']] + ['lat','lon']] #change order of column for best position of lat and lng"
   ]
  },
  {
   "cell_type": "code",
   "execution_count": 18,
   "metadata": {},
   "outputs": [],
   "source": [
    "df = df.reset_index(drop=True) #reset index for resolve eroor of out-bounded"
   ]
  },
  {
   "cell_type": "code",
   "execution_count": 19,
   "metadata": {},
   "outputs": [
    {
     "name": "stdout",
     "output_type": "stream",
     "text": [
      "task completed in 0.8303642312685648 minutes\n"
     ]
    }
   ],
   "source": [
    "tf = timezonefinder.TimezoneFinder() #defining time zones on lat, long data\n",
    "df['timezone_str'] = \"nan\"\n",
    "count = 0\n",
    "start = time.time()\n",
    "for line in df.itertuples():\n",
    "    count+=1\n",
    "    try:\n",
    "        df.timezone_str.at[line.Index] = tf.timezone_at(lat = df.iloc[line.Index]['lat'],\n",
    "                                                          lng = df.iloc[line.Index]['lon'])\n",
    "    except Exception as e:\n",
    "        print(e)\n",
    "        break\n",
    "    #if count == 10:\n",
    "        #break\n",
    "end = time.time()\n",
    "print(\"task completed in \"+str((end-start)/60)+\" minutes\")"
   ]
  },
  {
   "cell_type": "code",
   "execution_count": 20,
   "metadata": {
    "scrolled": false
   },
   "outputs": [
    {
     "data": {
      "text/html": [
       "<div>\n",
       "<style scoped>\n",
       "    .dataframe tbody tr th:only-of-type {\n",
       "        vertical-align: middle;\n",
       "    }\n",
       "\n",
       "    .dataframe tbody tr th {\n",
       "        vertical-align: top;\n",
       "    }\n",
       "\n",
       "    .dataframe thead th {\n",
       "        text-align: right;\n",
       "    }\n",
       "</style>\n",
       "<table border=\"1\" class=\"dataframe\">\n",
       "  <thead>\n",
       "    <tr style=\"text-align: right;\">\n",
       "      <th></th>\n",
       "      <th>name</th>\n",
       "      <th>time</th>\n",
       "      <th>country</th>\n",
       "      <th>state</th>\n",
       "      <th>lat</th>\n",
       "      <th>lon</th>\n",
       "      <th>timezone_str</th>\n",
       "    </tr>\n",
       "  </thead>\n",
       "  <tbody>\n",
       "    <tr>\n",
       "      <th>555</th>\n",
       "      <td>Improv for Beginners &amp; Lovers ~ Every Second S...</td>\n",
       "      <td>1.555155e+12</td>\n",
       "      <td>nl</td>\n",
       "      <td>nl</td>\n",
       "      <td>52.08</td>\n",
       "      <td>4.28</td>\n",
       "      <td>Europe/Amsterdam</td>\n",
       "    </tr>\n",
       "    <tr>\n",
       "      <th>556</th>\n",
       "      <td>Improv for Beginners - Bratislava</td>\n",
       "      <td>1.556125e+12</td>\n",
       "      <td>sk</td>\n",
       "      <td>sk</td>\n",
       "      <td>48.16</td>\n",
       "      <td>17.13</td>\n",
       "      <td>Europe/Bratislava</td>\n",
       "    </tr>\n",
       "    <tr>\n",
       "      <th>557</th>\n",
       "      <td>Improv for Data Scientists - You are a Storyte...</td>\n",
       "      <td>1.554169e+12</td>\n",
       "      <td>us</td>\n",
       "      <td>ca</td>\n",
       "      <td>37.77</td>\n",
       "      <td>-122.41</td>\n",
       "      <td>America/Los_Angeles</td>\n",
       "    </tr>\n",
       "    <tr>\n",
       "      <th>558</th>\n",
       "      <td>Improv for Engineers - You are a Storyteller</td>\n",
       "      <td>1.554169e+12</td>\n",
       "      <td>us</td>\n",
       "      <td>ca</td>\n",
       "      <td>37.79</td>\n",
       "      <td>-122.40</td>\n",
       "      <td>America/Los_Angeles</td>\n",
       "    </tr>\n",
       "    <tr>\n",
       "      <th>559</th>\n",
       "      <td>Improv for Everyone- 4 weeks of FUN!</td>\n",
       "      <td>1.554332e+12</td>\n",
       "      <td>us</td>\n",
       "      <td>fl</td>\n",
       "      <td>28.60</td>\n",
       "      <td>-81.36</td>\n",
       "      <td>America/New_York</td>\n",
       "    </tr>\n",
       "    <tr>\n",
       "      <th>560</th>\n",
       "      <td>Improv for Fathers Day</td>\n",
       "      <td>1.560622e+12</td>\n",
       "      <td>us</td>\n",
       "      <td>ks</td>\n",
       "      <td>38.99</td>\n",
       "      <td>-94.68</td>\n",
       "      <td>America/Chicago</td>\n",
       "    </tr>\n",
       "    <tr>\n",
       "      <th>561</th>\n",
       "      <td>Improv for Fun</td>\n",
       "      <td>1.561817e+12</td>\n",
       "      <td>gb</td>\n",
       "      <td>gb</td>\n",
       "      <td>51.60</td>\n",
       "      <td>-0.26</td>\n",
       "      <td>Europe/London</td>\n",
       "    </tr>\n",
       "    <tr>\n",
       "      <th>562</th>\n",
       "      <td>Improv for Fun</td>\n",
       "      <td>1.559398e+12</td>\n",
       "      <td>gb</td>\n",
       "      <td>gb</td>\n",
       "      <td>51.60</td>\n",
       "      <td>-0.26</td>\n",
       "      <td>Europe/London</td>\n",
       "    </tr>\n",
       "    <tr>\n",
       "      <th>563</th>\n",
       "      <td>Improv for Fun</td>\n",
       "      <td>1.555769e+12</td>\n",
       "      <td>gb</td>\n",
       "      <td>gb</td>\n",
       "      <td>51.60</td>\n",
       "      <td>-0.26</td>\n",
       "      <td>Europe/London</td>\n",
       "    </tr>\n",
       "    <tr>\n",
       "      <th>564</th>\n",
       "      <td>Improv for Fun</td>\n",
       "      <td>1.554559e+12</td>\n",
       "      <td>gb</td>\n",
       "      <td>gb</td>\n",
       "      <td>51.60</td>\n",
       "      <td>-0.26</td>\n",
       "      <td>Europe/London</td>\n",
       "    </tr>\n",
       "  </tbody>\n",
       "</table>\n",
       "</div>"
      ],
      "text/plain": [
       "                                                  name          time country  \\\n",
       "555  Improv for Beginners & Lovers ~ Every Second S...  1.555155e+12      nl   \n",
       "556                  Improv for Beginners - Bratislava  1.556125e+12      sk   \n",
       "557  Improv for Data Scientists - You are a Storyte...  1.554169e+12      us   \n",
       "558       Improv for Engineers - You are a Storyteller  1.554169e+12      us   \n",
       "559               Improv for Everyone- 4 weeks of FUN!  1.554332e+12      us   \n",
       "560                             Improv for Fathers Day  1.560622e+12      us   \n",
       "561                                     Improv for Fun  1.561817e+12      gb   \n",
       "562                                     Improv for Fun  1.559398e+12      gb   \n",
       "563                                     Improv for Fun  1.555769e+12      gb   \n",
       "564                                     Improv for Fun  1.554559e+12      gb   \n",
       "\n",
       "    state    lat     lon         timezone_str  \n",
       "555    nl  52.08    4.28     Europe/Amsterdam  \n",
       "556    sk  48.16   17.13    Europe/Bratislava  \n",
       "557    ca  37.77 -122.41  America/Los_Angeles  \n",
       "558    ca  37.79 -122.40  America/Los_Angeles  \n",
       "559    fl  28.60  -81.36     America/New_York  \n",
       "560    ks  38.99  -94.68      America/Chicago  \n",
       "561    gb  51.60   -0.26        Europe/London  \n",
       "562    gb  51.60   -0.26        Europe/London  \n",
       "563    gb  51.60   -0.26        Europe/London  \n",
       "564    gb  51.60   -0.26        Europe/London  "
      ]
     },
     "execution_count": 20,
     "metadata": {},
     "output_type": "execute_result"
    }
   ],
   "source": [
    "df[555:565] #check"
   ]
  },
  {
   "cell_type": "code",
   "execution_count": 21,
   "metadata": {},
   "outputs": [
    {
     "data": {
      "text/plain": [
       "name             object\n",
       "time            float64\n",
       "country          object\n",
       "state            object\n",
       "lat             float64\n",
       "lon             float64\n",
       "timezone_str     object\n",
       "dtype: object"
      ]
     },
     "execution_count": 21,
     "metadata": {},
     "output_type": "execute_result"
    }
   ],
   "source": [
    "df.dtypes"
   ]
  },
  {
   "cell_type": "code",
   "execution_count": 22,
   "metadata": {},
   "outputs": [],
   "source": [
    "#this step is dated (only for convert apoc in neo)\n",
    "#df['time'] = pd.to_datetime(df['time']) #convert time (object) into datettime type (needed fro convert after into timestamp)"
   ]
  },
  {
   "cell_type": "code",
   "execution_count": 23,
   "metadata": {},
   "outputs": [
    {
     "data": {
      "text/plain": [
       "\"df['timestamp'] = df.fillna(value=pd.np.nan, inplace=True) #fill with nan value\\nstart = time.time()\\ncount = 0\\nfor line in df.itertuples():\\n    count+=1\\n    try:\\n        df['timestamp'].at[line.Index] = dt.timestamp(df.iloc[line.Index]['time'])\\n    except Exception as e:\\n        print(e)\\n        break\\n    #if count == 100:\\n        #break\\nend = time.time()\\nprint('task completed in '+str((end-start)/60)+' minutes')\""
      ]
     },
     "execution_count": 23,
     "metadata": {},
     "output_type": "execute_result"
    }
   ],
   "source": [
    "##this step is dated (only for convert apoc in neo)\n",
    "'''df['timestamp'] = df.fillna(value=pd.np.nan, inplace=True) #fill with nan value\n",
    "start = time.time()\n",
    "count = 0\n",
    "for line in df.itertuples():\n",
    "    count+=1\n",
    "    try:\n",
    "        df['timestamp'].at[line.Index] = dt.timestamp(df.iloc[line.Index]['time'])\n",
    "    except Exception as e:\n",
    "        print(e)\n",
    "        break\n",
    "    #if count == 100:\n",
    "        #break\n",
    "end = time.time()\n",
    "print('task completed in '+str((end-start)/60)+' minutes')'''"
   ]
  },
  {
   "cell_type": "code",
   "execution_count": 24,
   "metadata": {
    "scrolled": true
   },
   "outputs": [
    {
     "data": {
      "text/html": [
       "<div>\n",
       "<style scoped>\n",
       "    .dataframe tbody tr th:only-of-type {\n",
       "        vertical-align: middle;\n",
       "    }\n",
       "\n",
       "    .dataframe tbody tr th {\n",
       "        vertical-align: top;\n",
       "    }\n",
       "\n",
       "    .dataframe thead th {\n",
       "        text-align: right;\n",
       "    }\n",
       "</style>\n",
       "<table border=\"1\" class=\"dataframe\">\n",
       "  <thead>\n",
       "    <tr style=\"text-align: right;\">\n",
       "      <th></th>\n",
       "      <th>name</th>\n",
       "      <th>time</th>\n",
       "      <th>country</th>\n",
       "      <th>state</th>\n",
       "      <th>lat</th>\n",
       "      <th>lon</th>\n",
       "      <th>timezone_str</th>\n",
       "    </tr>\n",
       "  </thead>\n",
       "  <tbody>\n",
       "    <tr>\n",
       "      <th>0</th>\n",
       "      <td>Identity Take Two (Evening Meetup)</td>\n",
       "      <td>1.554507e+12</td>\n",
       "      <td>us</td>\n",
       "      <td>pa</td>\n",
       "      <td>40.09</td>\n",
       "      <td>-75.47</td>\n",
       "      <td>America/New_York</td>\n",
       "    </tr>\n",
       "    <tr>\n",
       "      <th>1</th>\n",
       "      <td>Identity Tech Talk - Tap-and-Go AuthN for seam...</td>\n",
       "      <td>1.556038e+12</td>\n",
       "      <td>gb</td>\n",
       "      <td>gb</td>\n",
       "      <td>51.52</td>\n",
       "      <td>-0.11</td>\n",
       "      <td>Europe/London</td>\n",
       "    </tr>\n",
       "    <tr>\n",
       "      <th>2</th>\n",
       "      <td>Identity Theft Protection ..Protecting Everyda...</td>\n",
       "      <td>1.554754e+12</td>\n",
       "      <td>us</td>\n",
       "      <td>sd</td>\n",
       "      <td>44.06</td>\n",
       "      <td>-103.28</td>\n",
       "      <td>America/Denver</td>\n",
       "    </tr>\n",
       "    <tr>\n",
       "      <th>3</th>\n",
       "      <td>Identity and Access \\u2013 pointing the future</td>\n",
       "      <td>1.554223e+12</td>\n",
       "      <td>nl</td>\n",
       "      <td>nl</td>\n",
       "      <td>52.37</td>\n",
       "      <td>4.89</td>\n",
       "      <td>Europe/Amsterdam</td>\n",
       "    </tr>\n",
       "    <tr>\n",
       "      <th>4</th>\n",
       "      <td>Identity and self-discovery - at thirdspace in...</td>\n",
       "      <td>1.554948e+12</td>\n",
       "      <td>ca</td>\n",
       "      <td>bc</td>\n",
       "      <td>49.18</td>\n",
       "      <td>-122.81</td>\n",
       "      <td>America/Vancouver</td>\n",
       "    </tr>\n",
       "    <tr>\n",
       "      <th>5</th>\n",
       "      <td>Identity and self-discovery - at thirdspace in...</td>\n",
       "      <td>1.554343e+12</td>\n",
       "      <td>ca</td>\n",
       "      <td>bc</td>\n",
       "      <td>49.18</td>\n",
       "      <td>-122.81</td>\n",
       "      <td>America/Vancouver</td>\n",
       "    </tr>\n",
       "    <tr>\n",
       "      <th>6</th>\n",
       "      <td>Identity on the Blockchain - Project Part 2; P...</td>\n",
       "      <td>1.554331e+12</td>\n",
       "      <td>us</td>\n",
       "      <td>in</td>\n",
       "      <td>39.77</td>\n",
       "      <td>-86.11</td>\n",
       "      <td>America/Indiana/Indianapolis</td>\n",
       "    </tr>\n",
       "    <tr>\n",
       "      <th>7</th>\n",
       "      <td>Identity und Access Management leicht gemacht</td>\n",
       "      <td>1.559061e+12</td>\n",
       "      <td>de</td>\n",
       "      <td>de</td>\n",
       "      <td>48.79</td>\n",
       "      <td>9.19</td>\n",
       "      <td>Europe/Berlin</td>\n",
       "    </tr>\n",
       "    <tr>\n",
       "      <th>8</th>\n",
       "      <td>Identity, Self-Love, and Letting Go A Non-Resi...</td>\n",
       "      <td>1.558796e+12</td>\n",
       "      <td>us</td>\n",
       "      <td>co</td>\n",
       "      <td>40.05</td>\n",
       "      <td>-105.21</td>\n",
       "      <td>America/Denver</td>\n",
       "    </tr>\n",
       "    <tr>\n",
       "      <th>9</th>\n",
       "      <td>Identity....identities?</td>\n",
       "      <td>1.554912e+12</td>\n",
       "      <td>se</td>\n",
       "      <td>se</td>\n",
       "      <td>55.61</td>\n",
       "      <td>13.02</td>\n",
       "      <td>Europe/Stockholm</td>\n",
       "    </tr>\n",
       "  </tbody>\n",
       "</table>\n",
       "</div>"
      ],
      "text/plain": [
       "                                                name          time country  \\\n",
       "0                 Identity Take Two (Evening Meetup)  1.554507e+12      us   \n",
       "1  Identity Tech Talk - Tap-and-Go AuthN for seam...  1.556038e+12      gb   \n",
       "2  Identity Theft Protection ..Protecting Everyda...  1.554754e+12      us   \n",
       "3     Identity and Access \\u2013 pointing the future  1.554223e+12      nl   \n",
       "4  Identity and self-discovery - at thirdspace in...  1.554948e+12      ca   \n",
       "5  Identity and self-discovery - at thirdspace in...  1.554343e+12      ca   \n",
       "6  Identity on the Blockchain - Project Part 2; P...  1.554331e+12      us   \n",
       "7      Identity und Access Management leicht gemacht  1.559061e+12      de   \n",
       "8  Identity, Self-Love, and Letting Go A Non-Resi...  1.558796e+12      us   \n",
       "9                            Identity....identities?  1.554912e+12      se   \n",
       "\n",
       "  state    lat     lon                  timezone_str  \n",
       "0    pa  40.09  -75.47              America/New_York  \n",
       "1    gb  51.52   -0.11                 Europe/London  \n",
       "2    sd  44.06 -103.28                America/Denver  \n",
       "3    nl  52.37    4.89              Europe/Amsterdam  \n",
       "4    bc  49.18 -122.81             America/Vancouver  \n",
       "5    bc  49.18 -122.81             America/Vancouver  \n",
       "6    in  39.77  -86.11  America/Indiana/Indianapolis  \n",
       "7    de  48.79    9.19                 Europe/Berlin  \n",
       "8    co  40.05 -105.21                America/Denver  \n",
       "9    se  55.61   13.02              Europe/Stockholm  "
      ]
     },
     "execution_count": 24,
     "metadata": {},
     "output_type": "execute_result"
    }
   ],
   "source": [
    "df.head(10) #check"
   ]
  },
  {
   "cell_type": "code",
   "execution_count": 25,
   "metadata": {},
   "outputs": [],
   "source": [
    "def rounder(t): #this function round the time to nearest hour\n",
    "    if t.minute >= 30:\n",
    "        if t.hour == 23:\n",
    "            return t.replace(second=0, microsecond=0, minute=0, hour=0)\n",
    "        else:\n",
    "            return t.replace(second=0, microsecond=0, minute=0, hour= t.hour+1)\n",
    "    else:\n",
    "        return t.replace(second=0, microsecond=0, minute=0)"
   ]
  },
  {
   "cell_type": "code",
   "execution_count": 26,
   "metadata": {},
   "outputs": [],
   "source": [
    "df['datetime_timezoned'] = df.fillna(value=pd.np.nan, inplace=True) #fill with nan value"
   ]
  },
  {
   "cell_type": "code",
   "execution_count": 27,
   "metadata": {},
   "outputs": [
    {
     "data": {
      "text/plain": [
       "name                   object\n",
       "time                  float64\n",
       "country                object\n",
       "state                  object\n",
       "lat                   float64\n",
       "lon                   float64\n",
       "timezone_str           object\n",
       "datetime_timezoned     object\n",
       "dtype: object"
      ]
     },
     "execution_count": 27,
     "metadata": {},
     "output_type": "execute_result"
    }
   ],
   "source": [
    "df['datetime_timezoned'] = df['datetime_timezoned'].astype(object) #convert for resolve error in the cell above (should not be a number)\n",
    "df.dtypes"
   ]
  },
  {
   "cell_type": "code",
   "execution_count": 28,
   "metadata": {
    "scrolled": true
   },
   "outputs": [
    {
     "name": "stdout",
     "output_type": "stream",
     "text": [
      "task completed in 0.7904697378476461 minutes\n"
     ]
    }
   ],
   "source": [
    "start = time.time()\n",
    "count = 0\n",
    "for line in df.itertuples():\n",
    "    count+=1\n",
    "    try:\n",
    "        df.datetime_timezoned.at[line.Index] = rounder((dt.fromtimestamp\n",
    "                                                   (timestamp = (df.iloc[line.Index]['time'])/1000,\n",
    "                                                    tz = pytz.timezone(df.iloc[line.Index]['timezone_str'])\n",
    "                                                   ))).strftime(\"%d/%m/%Y %H:%M:%S\")\n",
    "    except Exception as e:\n",
    "        print(e)\n",
    "        break\n",
    "    #if count == 100:\n",
    "        #break\n",
    "end = time.time()\n",
    "print('task completed in '+str((end-start)/60)+' minutes')"
   ]
  },
  {
   "cell_type": "code",
   "execution_count": 29,
   "metadata": {
    "scrolled": true
   },
   "outputs": [
    {
     "data": {
      "text/html": [
       "<div>\n",
       "<style scoped>\n",
       "    .dataframe tbody tr th:only-of-type {\n",
       "        vertical-align: middle;\n",
       "    }\n",
       "\n",
       "    .dataframe tbody tr th {\n",
       "        vertical-align: top;\n",
       "    }\n",
       "\n",
       "    .dataframe thead th {\n",
       "        text-align: right;\n",
       "    }\n",
       "</style>\n",
       "<table border=\"1\" class=\"dataframe\">\n",
       "  <thead>\n",
       "    <tr style=\"text-align: right;\">\n",
       "      <th></th>\n",
       "      <th>name</th>\n",
       "      <th>country</th>\n",
       "      <th>state</th>\n",
       "      <th>lat</th>\n",
       "      <th>lon</th>\n",
       "      <th>timezone_str</th>\n",
       "      <th>time</th>\n",
       "      <th>datetime_timezoned</th>\n",
       "    </tr>\n",
       "  </thead>\n",
       "  <tbody>\n",
       "    <tr>\n",
       "      <th>0</th>\n",
       "      <td>Identity Take Two (Evening Meetup)</td>\n",
       "      <td>us</td>\n",
       "      <td>pa</td>\n",
       "      <td>40.09</td>\n",
       "      <td>-75.47</td>\n",
       "      <td>America/New_York</td>\n",
       "      <td>1.554507e+12</td>\n",
       "      <td>05/04/2019 20:00:00</td>\n",
       "    </tr>\n",
       "    <tr>\n",
       "      <th>1</th>\n",
       "      <td>Identity Tech Talk - Tap-and-Go AuthN for seam...</td>\n",
       "      <td>gb</td>\n",
       "      <td>gb</td>\n",
       "      <td>51.52</td>\n",
       "      <td>-0.11</td>\n",
       "      <td>Europe/London</td>\n",
       "      <td>1.556038e+12</td>\n",
       "      <td>23/04/2019 18:00:00</td>\n",
       "    </tr>\n",
       "    <tr>\n",
       "      <th>2</th>\n",
       "      <td>Identity Theft Protection ..Protecting Everyda...</td>\n",
       "      <td>us</td>\n",
       "      <td>sd</td>\n",
       "      <td>44.06</td>\n",
       "      <td>-103.28</td>\n",
       "      <td>America/Denver</td>\n",
       "      <td>1.554754e+12</td>\n",
       "      <td>08/04/2019 14:00:00</td>\n",
       "    </tr>\n",
       "    <tr>\n",
       "      <th>3</th>\n",
       "      <td>Identity and Access \\u2013 pointing the future</td>\n",
       "      <td>nl</td>\n",
       "      <td>nl</td>\n",
       "      <td>52.37</td>\n",
       "      <td>4.89</td>\n",
       "      <td>Europe/Amsterdam</td>\n",
       "      <td>1.554223e+12</td>\n",
       "      <td>02/04/2019 19:00:00</td>\n",
       "    </tr>\n",
       "    <tr>\n",
       "      <th>4</th>\n",
       "      <td>Identity and self-discovery - at thirdspace in...</td>\n",
       "      <td>ca</td>\n",
       "      <td>bc</td>\n",
       "      <td>49.18</td>\n",
       "      <td>-122.81</td>\n",
       "      <td>America/Vancouver</td>\n",
       "      <td>1.554948e+12</td>\n",
       "      <td>10/04/2019 19:00:00</td>\n",
       "    </tr>\n",
       "    <tr>\n",
       "      <th>5</th>\n",
       "      <td>Identity and self-discovery - at thirdspace in...</td>\n",
       "      <td>ca</td>\n",
       "      <td>bc</td>\n",
       "      <td>49.18</td>\n",
       "      <td>-122.81</td>\n",
       "      <td>America/Vancouver</td>\n",
       "      <td>1.554343e+12</td>\n",
       "      <td>03/04/2019 19:00:00</td>\n",
       "    </tr>\n",
       "    <tr>\n",
       "      <th>6</th>\n",
       "      <td>Identity on the Blockchain - Project Part 2; P...</td>\n",
       "      <td>us</td>\n",
       "      <td>in</td>\n",
       "      <td>39.77</td>\n",
       "      <td>-86.11</td>\n",
       "      <td>America/Indiana/Indianapolis</td>\n",
       "      <td>1.554331e+12</td>\n",
       "      <td>03/04/2019 19:00:00</td>\n",
       "    </tr>\n",
       "    <tr>\n",
       "      <th>7</th>\n",
       "      <td>Identity und Access Management leicht gemacht</td>\n",
       "      <td>de</td>\n",
       "      <td>de</td>\n",
       "      <td>48.79</td>\n",
       "      <td>9.19</td>\n",
       "      <td>Europe/Berlin</td>\n",
       "      <td>1.559061e+12</td>\n",
       "      <td>28/05/2019 19:00:00</td>\n",
       "    </tr>\n",
       "    <tr>\n",
       "      <th>8</th>\n",
       "      <td>Identity, Self-Love, and Letting Go A Non-Resi...</td>\n",
       "      <td>us</td>\n",
       "      <td>co</td>\n",
       "      <td>40.05</td>\n",
       "      <td>-105.21</td>\n",
       "      <td>America/Denver</td>\n",
       "      <td>1.558796e+12</td>\n",
       "      <td>25/05/2019 09:00:00</td>\n",
       "    </tr>\n",
       "    <tr>\n",
       "      <th>9</th>\n",
       "      <td>Identity....identities?</td>\n",
       "      <td>se</td>\n",
       "      <td>se</td>\n",
       "      <td>55.61</td>\n",
       "      <td>13.02</td>\n",
       "      <td>Europe/Stockholm</td>\n",
       "      <td>1.554912e+12</td>\n",
       "      <td>10/04/2019 18:00:00</td>\n",
       "    </tr>\n",
       "  </tbody>\n",
       "</table>\n",
       "</div>"
      ],
      "text/plain": [
       "                                                name country state    lat  \\\n",
       "0                 Identity Take Two (Evening Meetup)      us    pa  40.09   \n",
       "1  Identity Tech Talk - Tap-and-Go AuthN for seam...      gb    gb  51.52   \n",
       "2  Identity Theft Protection ..Protecting Everyda...      us    sd  44.06   \n",
       "3     Identity and Access \\u2013 pointing the future      nl    nl  52.37   \n",
       "4  Identity and self-discovery - at thirdspace in...      ca    bc  49.18   \n",
       "5  Identity and self-discovery - at thirdspace in...      ca    bc  49.18   \n",
       "6  Identity on the Blockchain - Project Part 2; P...      us    in  39.77   \n",
       "7      Identity und Access Management leicht gemacht      de    de  48.79   \n",
       "8  Identity, Self-Love, and Letting Go A Non-Resi...      us    co  40.05   \n",
       "9                            Identity....identities?      se    se  55.61   \n",
       "\n",
       "      lon                  timezone_str          time   datetime_timezoned  \n",
       "0  -75.47              America/New_York  1.554507e+12  05/04/2019 20:00:00  \n",
       "1   -0.11                 Europe/London  1.556038e+12  23/04/2019 18:00:00  \n",
       "2 -103.28                America/Denver  1.554754e+12  08/04/2019 14:00:00  \n",
       "3    4.89              Europe/Amsterdam  1.554223e+12  02/04/2019 19:00:00  \n",
       "4 -122.81             America/Vancouver  1.554948e+12  10/04/2019 19:00:00  \n",
       "5 -122.81             America/Vancouver  1.554343e+12  03/04/2019 19:00:00  \n",
       "6  -86.11  America/Indiana/Indianapolis  1.554331e+12  03/04/2019 19:00:00  \n",
       "7    9.19                 Europe/Berlin  1.559061e+12  28/05/2019 19:00:00  \n",
       "8 -105.21                America/Denver  1.558796e+12  25/05/2019 09:00:00  \n",
       "9   13.02              Europe/Stockholm  1.554912e+12  10/04/2019 18:00:00  "
      ]
     },
     "execution_count": 29,
     "metadata": {},
     "output_type": "execute_result"
    }
   ],
   "source": [
    "df = df[[c for c in df if c not in ['timezone_str','time','datetime_timezoned']] + ['timezone_str','time','datetime_timezoned']]\n",
    "df.head(10) #re-order column"
   ]
  },
  {
   "cell_type": "code",
   "execution_count": 30,
   "metadata": {},
   "outputs": [],
   "source": [
    "df.to_csv('I:/Massi/Documents/GitHub/NeoMeetup/csv/exported_queries/Distribuzione_temporale_eventi_fix.csv') #csv"
   ]
  },
  {
   "cell_type": "code",
   "execution_count": 31,
   "metadata": {},
   "outputs": [
    {
     "name": "stdout",
     "output_type": "stream",
     "text": [
      "script completed in 1.7448517243067423 minutes\n"
     ]
    }
   ],
   "source": [
    "end_fin = time.time()\n",
    "print(\"script completed in \"+str((end_fin-start_ini)/60)+\" minutes\")"
   ]
  }
 ],
 "metadata": {
  "kernelspec": {
   "display_name": "Python 3",
   "language": "python",
   "name": "python3"
  },
  "language_info": {
   "codemirror_mode": {
    "name": "ipython",
    "version": 3
   },
   "file_extension": ".py",
   "mimetype": "text/x-python",
   "name": "python",
   "nbconvert_exporter": "python",
   "pygments_lexer": "ipython3",
   "version": "3.6.4"
  }
 },
 "nbformat": 4,
 "nbformat_minor": 2
}
