{
 "cells": [
  {
   "cell_type": "code",
   "execution_count": 1,
   "metadata": {},
   "outputs": [],
   "source": [
    "import pandas as pd\n",
    "from pytz import country_timezones\n",
    "import time\n",
    "import numpy as np\n",
    "import timezonefinder\n",
    "from datetime import datetime as dt\n",
    "import pytz\n",
    "import calendar\n",
    "import seaborn as sns\n",
    "%matplotlib inline\n",
    "from matplotlib import rcParams"
   ]
  },
  {
   "cell_type": "code",
   "execution_count": 2,
   "metadata": {},
   "outputs": [],
   "source": [
    "start_ini = time.time() #check time"
   ]
  },
  {
   "cell_type": "code",
   "execution_count": 3,
   "metadata": {},
   "outputs": [],
   "source": [
    "import warnings\n",
    "warnings.filterwarnings('ignore') #remove warning"
   ]
  },
  {
   "cell_type": "code",
   "execution_count": 4,
   "metadata": {
    "scrolled": true
   },
   "outputs": [
    {
     "data": {
      "text/html": [
       "<div>\n",
       "<style scoped>\n",
       "    .dataframe tbody tr th:only-of-type {\n",
       "        vertical-align: middle;\n",
       "    }\n",
       "\n",
       "    .dataframe tbody tr th {\n",
       "        vertical-align: top;\n",
       "    }\n",
       "\n",
       "    .dataframe thead th {\n",
       "        text-align: right;\n",
       "    }\n",
       "</style>\n",
       "<table border=\"1\" class=\"dataframe\">\n",
       "  <thead>\n",
       "    <tr style=\"text-align: right;\">\n",
       "      <th></th>\n",
       "      <th>name</th>\n",
       "      <th>time</th>\n",
       "      <th>country</th>\n",
       "      <th>state</th>\n",
       "      <th>lon</th>\n",
       "      <th>lat</th>\n",
       "    </tr>\n",
       "  </thead>\n",
       "  <tbody>\n",
       "    <tr>\n",
       "      <th>0</th>\n",
       "      <td>\bLunch meetup at Shanghai Slims 13th April Sat...</td>\n",
       "      <td>1.555128e+12</td>\n",
       "      <td>cn</td>\n",
       "      <td>NONE</td>\n",
       "      <td>121.47</td>\n",
       "      <td>31.23</td>\n",
       "    </tr>\n",
       "    <tr>\n",
       "      <th>1</th>\n",
       "      <td>\\t Meetup Salud M\\u00f3vil, IA Salud - Observa...</td>\n",
       "      <td>1.554413e+12</td>\n",
       "      <td>co</td>\n",
       "      <td>NONE</td>\n",
       "      <td>-75.59</td>\n",
       "      <td>6.25</td>\n",
       "    </tr>\n",
       "    <tr>\n",
       "      <th>2</th>\n",
       "      <td>\\t Rob Thomas: Chip Tooth Tour</td>\n",
       "      <td>1.560213e+12</td>\n",
       "      <td>us</td>\n",
       "      <td>CO</td>\n",
       "      <td>-105.08</td>\n",
       "      <td>39.7</td>\n",
       "    </tr>\n",
       "    <tr>\n",
       "      <th>3</th>\n",
       "      <td>\\tHayden Island</td>\n",
       "      <td>1.554568e+12</td>\n",
       "      <td>us</td>\n",
       "      <td>OR</td>\n",
       "      <td>-122.77</td>\n",
       "      <td>45.44</td>\n",
       "    </tr>\n",
       "    <tr>\n",
       "      <th>4</th>\n",
       "      <td>\\tNorth - University of Portland</td>\n",
       "      <td>1.555173e+12</td>\n",
       "      <td>us</td>\n",
       "      <td>OR</td>\n",
       "      <td>-122.77</td>\n",
       "      <td>45.44</td>\n",
       "    </tr>\n",
       "  </tbody>\n",
       "</table>\n",
       "</div>"
      ],
      "text/plain": [
       "                                                name          time country  \\\n",
       "0  \bLunch meetup at Shanghai Slims 13th April Sat...  1.555128e+12      cn   \n",
       "1  \\t Meetup Salud M\\u00f3vil, IA Salud - Observa...  1.554413e+12      co   \n",
       "2                     \\t Rob Thomas: Chip Tooth Tour  1.560213e+12      us   \n",
       "3                                    \\tHayden Island  1.554568e+12      us   \n",
       "4                   \\tNorth - University of Portland  1.555173e+12      us   \n",
       "\n",
       "  state      lon    lat  \n",
       "0  NONE   121.47  31.23  \n",
       "1  NONE   -75.59   6.25  \n",
       "2    CO  -105.08   39.7  \n",
       "3    OR  -122.77  45.44  \n",
       "4    OR  -122.77  45.44  "
      ]
     },
     "execution_count": 4,
     "metadata": {},
     "output_type": "execute_result"
    }
   ],
   "source": [
    "#import dataset\n",
    "df = pd.read_csv('https://media.githubusercontent.com/media/DBertazioli/NeoMeetup/master/csv/exported_queries/Distribuzione_temporale_eventi.csv')\n",
    "df.head()"
   ]
  },
  {
   "cell_type": "code",
   "execution_count": 5,
   "metadata": {},
   "outputs": [
    {
     "data": {
      "text/html": [
       "<div>\n",
       "<style scoped>\n",
       "    .dataframe tbody tr th:only-of-type {\n",
       "        vertical-align: middle;\n",
       "    }\n",
       "\n",
       "    .dataframe tbody tr th {\n",
       "        vertical-align: top;\n",
       "    }\n",
       "\n",
       "    .dataframe thead th {\n",
       "        text-align: right;\n",
       "    }\n",
       "</style>\n",
       "<table border=\"1\" class=\"dataframe\">\n",
       "  <thead>\n",
       "    <tr style=\"text-align: right;\">\n",
       "      <th></th>\n",
       "      <th>name</th>\n",
       "      <th>time</th>\n",
       "      <th>country</th>\n",
       "      <th>state</th>\n",
       "      <th>lon</th>\n",
       "      <th>lat</th>\n",
       "    </tr>\n",
       "  </thead>\n",
       "  <tbody>\n",
       "    <tr>\n",
       "      <th>0</th>\n",
       "      <td>\bLunch meetup at Shanghai Slims 13th April Sat...</td>\n",
       "      <td>1.555128e+12</td>\n",
       "      <td>cn</td>\n",
       "      <td>none</td>\n",
       "      <td>121.47</td>\n",
       "      <td>31.23</td>\n",
       "    </tr>\n",
       "    <tr>\n",
       "      <th>1</th>\n",
       "      <td>\\t Meetup Salud M\\u00f3vil, IA Salud - Observa...</td>\n",
       "      <td>1.554413e+12</td>\n",
       "      <td>co</td>\n",
       "      <td>none</td>\n",
       "      <td>-75.59</td>\n",
       "      <td>6.25</td>\n",
       "    </tr>\n",
       "    <tr>\n",
       "      <th>5</th>\n",
       "      <td>\\tPhunsukh Wangdu Isolated Camping</td>\n",
       "      <td>1.554532e+12</td>\n",
       "      <td>in</td>\n",
       "      <td>none</td>\n",
       "      <td>77.56</td>\n",
       "      <td>12.97</td>\n",
       "    </tr>\n",
       "    <tr>\n",
       "      <th>6</th>\n",
       "      <td>\\tSevern Shires Way part 4, Farnborough to Mid...</td>\n",
       "      <td>1.554628e+12</td>\n",
       "      <td>gb</td>\n",
       "      <td>none</td>\n",
       "      <td>-1.26</td>\n",
       "      <td>51.76</td>\n",
       "    </tr>\n",
       "    <tr>\n",
       "      <th>9</th>\n",
       "      <td>\\tWine and Paint Party - Unicorn Painting</td>\n",
       "      <td>1.555206e+12</td>\n",
       "      <td>nz</td>\n",
       "      <td>none</td>\n",
       "      <td>174.76</td>\n",
       "      <td>-36.85</td>\n",
       "    </tr>\n",
       "  </tbody>\n",
       "</table>\n",
       "</div>"
      ],
      "text/plain": [
       "                                                name          time country  \\\n",
       "0  \bLunch meetup at Shanghai Slims 13th April Sat...  1.555128e+12      cn   \n",
       "1  \\t Meetup Salud M\\u00f3vil, IA Salud - Observa...  1.554413e+12      co   \n",
       "5                 \\tPhunsukh Wangdu Isolated Camping  1.554532e+12      in   \n",
       "6  \\tSevern Shires Way part 4, Farnborough to Mid...  1.554628e+12      gb   \n",
       "9          \\tWine and Paint Party - Unicorn Painting  1.555206e+12      nz   \n",
       "\n",
       "  state     lon    lat  \n",
       "0  none  121.47  31.23  \n",
       "1  none  -75.59   6.25  \n",
       "5  none   77.56  12.97  \n",
       "6  none   -1.26  51.76  \n",
       "9  none  174.76 -36.85  "
      ]
     },
     "execution_count": 5,
     "metadata": {},
     "output_type": "execute_result"
    }
   ],
   "source": [
    "df['state'] = df['state'].str.lower() #lower charcter 'NONE'-->'none'\n",
    "df[df['state'] == 'none'].head()"
   ]
  },
  {
   "cell_type": "code",
   "execution_count": 6,
   "metadata": {},
   "outputs": [],
   "source": [
    "df.loc[df['state'] == 'none', 'state'] = df['country'] #fill the state's value with country's value if there was 'none'"
   ]
  },
  {
   "cell_type": "code",
   "execution_count": 7,
   "metadata": {},
   "outputs": [
    {
     "data": {
      "text/plain": [
       "name        76\n",
       "time       144\n",
       "country    144\n",
       "state      144\n",
       "lon        144\n",
       "lat        144\n",
       "dtype: int64"
      ]
     },
     "execution_count": 7,
     "metadata": {},
     "output_type": "execute_result"
    }
   ],
   "source": [
    "df.isnull().sum() #check sum of nan fro columns"
   ]
  },
  {
   "cell_type": "code",
   "execution_count": 8,
   "metadata": {},
   "outputs": [],
   "source": [
    "df = df.dropna() #rm nan value for all df (rows)"
   ]
  },
  {
   "cell_type": "code",
   "execution_count": 9,
   "metadata": {},
   "outputs": [
    {
     "data": {
      "text/plain": [
       "name       False\n",
       "time       False\n",
       "country    False\n",
       "state      False\n",
       "lon        False\n",
       "lat        False\n",
       "dtype: bool"
      ]
     },
     "execution_count": 9,
     "metadata": {},
     "output_type": "execute_result"
    }
   ],
   "source": [
    "df.isnull().any() #check"
   ]
  },
  {
   "cell_type": "code",
   "execution_count": 10,
   "metadata": {},
   "outputs": [],
   "source": [
    "#df.loc[df['state'] == 'none', 'state'] = df.fillna(value=pd.np.nan, inplace=True) \n",
    "#it's only if would take nan into country that do not have a state"
   ]
  },
  {
   "cell_type": "code",
   "execution_count": 11,
   "metadata": {},
   "outputs": [],
   "source": [
    "#df.isnull().sum() #check"
   ]
  },
  {
   "cell_type": "code",
   "execution_count": 12,
   "metadata": {
    "scrolled": true
   },
   "outputs": [],
   "source": [
    "#df.isnull().any() #another check :/"
   ]
  },
  {
   "cell_type": "code",
   "execution_count": 13,
   "metadata": {},
   "outputs": [
    {
     "data": {
      "text/plain": [
       "name        0\n",
       "time        0\n",
       "country     0\n",
       "state       0\n",
       "lon        98\n",
       "lat         5\n",
       "dtype: int64"
      ]
     },
     "execution_count": 13,
     "metadata": {},
     "output_type": "execute_result"
    }
   ],
   "source": [
    "#same method for check nan value into coordinates\n",
    "#df['lon'] = df['lon'].str.lower() *****crea problemi con NAN su 180k rows di lat******\n",
    "#df['lat'] = df['lat'].str.lower()\n",
    "df.loc[df['lon'] == 'NONE', 'lon'] = df.fillna(value=pd.np.nan, inplace=True)\n",
    "df.loc[df['lat'] == 'NONE', 'lat'] = df.fillna(value=pd.np.nan, inplace=True)\n",
    "df.isnull().sum()"
   ]
  },
  {
   "cell_type": "code",
   "execution_count": 14,
   "metadata": {
    "scrolled": true
   },
   "outputs": [
    {
     "data": {
      "text/plain": [
       "name       0\n",
       "time       0\n",
       "country    0\n",
       "state      0\n",
       "lon        0\n",
       "lat        0\n",
       "dtype: int64"
      ]
     },
     "execution_count": 14,
     "metadata": {},
     "output_type": "execute_result"
    }
   ],
   "source": [
    "df = df.dropna() #remove this nan\n",
    "df.isnull().sum()"
   ]
  },
  {
   "cell_type": "code",
   "execution_count": 15,
   "metadata": {
    "scrolled": true
   },
   "outputs": [
    {
     "data": {
      "text/html": [
       "<div>\n",
       "<style scoped>\n",
       "    .dataframe tbody tr th:only-of-type {\n",
       "        vertical-align: middle;\n",
       "    }\n",
       "\n",
       "    .dataframe tbody tr th {\n",
       "        vertical-align: top;\n",
       "    }\n",
       "\n",
       "    .dataframe thead th {\n",
       "        text-align: right;\n",
       "    }\n",
       "</style>\n",
       "<table border=\"1\" class=\"dataframe\">\n",
       "  <thead>\n",
       "    <tr style=\"text-align: right;\">\n",
       "      <th></th>\n",
       "      <th>name</th>\n",
       "      <th>time</th>\n",
       "      <th>country</th>\n",
       "      <th>state</th>\n",
       "      <th>lon</th>\n",
       "      <th>lat</th>\n",
       "    </tr>\n",
       "  </thead>\n",
       "  <tbody>\n",
       "    <tr>\n",
       "      <th>313432</th>\n",
       "      <td>~Vegan Drinks &amp; Pizza~ at Bonnie BraeTavern</td>\n",
       "      <td>1.555726e+12</td>\n",
       "      <td>us</td>\n",
       "      <td>co</td>\n",
       "      <td>-104.99</td>\n",
       "      <td>39.75</td>\n",
       "    </tr>\n",
       "    <tr>\n",
       "      <th>313433</th>\n",
       "      <td>~~ Avengers -  ENDGAME ~~</td>\n",
       "      <td>1.556664e+12</td>\n",
       "      <td>us</td>\n",
       "      <td>pa</td>\n",
       "      <td>-75.14</td>\n",
       "      <td>40</td>\n",
       "    </tr>\n",
       "    <tr>\n",
       "      <th>313434</th>\n",
       "      <td>~~ Dawn Mine Hike ~~</td>\n",
       "      <td>1.555168e+12</td>\n",
       "      <td>us</td>\n",
       "      <td>ca</td>\n",
       "      <td>-118.31</td>\n",
       "      <td>34.06</td>\n",
       "    </tr>\n",
       "    <tr>\n",
       "      <th>313435</th>\n",
       "      <td>~~ Lets explore Giant Ledge!</td>\n",
       "      <td>1.555247e+12</td>\n",
       "      <td>us</td>\n",
       "      <td>ny</td>\n",
       "      <td>-74.06</td>\n",
       "      <td>41.52</td>\n",
       "    </tr>\n",
       "    <tr>\n",
       "      <th>313436</th>\n",
       "      <td>~~ Pinochle PLUS......Game Night ~~~</td>\n",
       "      <td>1.555196e+12</td>\n",
       "      <td>us</td>\n",
       "      <td>pa</td>\n",
       "      <td>-75.14</td>\n",
       "      <td>40</td>\n",
       "    </tr>\n",
       "  </tbody>\n",
       "</table>\n",
       "</div>"
      ],
      "text/plain": [
       "                                               name          time country  \\\n",
       "313432  ~Vegan Drinks & Pizza~ at Bonnie BraeTavern  1.555726e+12      us   \n",
       "313433                    ~~ Avengers -  ENDGAME ~~  1.556664e+12      us   \n",
       "313434                         ~~ Dawn Mine Hike ~~  1.555168e+12      us   \n",
       "313435                 ~~ Lets explore Giant Ledge!  1.555247e+12      us   \n",
       "313436         ~~ Pinochle PLUS......Game Night ~~~  1.555196e+12      us   \n",
       "\n",
       "       state      lon    lat  \n",
       "313432    co  -104.99  39.75  \n",
       "313433    pa   -75.14     40  \n",
       "313434    ca  -118.31  34.06  \n",
       "313435    ny   -74.06  41.52  \n",
       "313436    pa   -75.14     40  "
      ]
     },
     "execution_count": 15,
     "metadata": {},
     "output_type": "execute_result"
    }
   ],
   "source": [
    "df.tail() #df clean"
   ]
  },
  {
   "cell_type": "code",
   "execution_count": 16,
   "metadata": {
    "scrolled": true
   },
   "outputs": [
    {
     "data": {
      "text/plain": [
       "name        object\n",
       "time       float64\n",
       "country     object\n",
       "state       object\n",
       "lon        float64\n",
       "lat        float64\n",
       "dtype: object"
      ]
     },
     "execution_count": 16,
     "metadata": {},
     "output_type": "execute_result"
    }
   ],
   "source": [
    "df['lon'] = df['lon'].astype(float) #convert coordinates into float for problem into cell below (timezonefinder)\n",
    "df['lat'] = df['lat'].astype(float)\n",
    "df.dtypes"
   ]
  },
  {
   "cell_type": "code",
   "execution_count": 17,
   "metadata": {},
   "outputs": [],
   "source": [
    "df = df[[c for c in df if c not in ['lat','lon']] + ['lat','lon']] #change order of column for best position of lat and lng"
   ]
  },
  {
   "cell_type": "code",
   "execution_count": 18,
   "metadata": {},
   "outputs": [],
   "source": [
    "df = df.reset_index(drop=True) #reset index for resolve eroor of out-bounded"
   ]
  },
  {
   "cell_type": "code",
   "execution_count": 19,
   "metadata": {},
   "outputs": [
    {
     "name": "stdout",
     "output_type": "stream",
     "text": [
      "task completed in 1.910099486509959 minutes\n"
     ]
    }
   ],
   "source": [
    "tf = timezonefinder.TimezoneFinder() #defining time zones on lat, long data\n",
    "df['timezone_str'] = \"nan\"\n",
    "count = 0\n",
    "start = time.time()\n",
    "for line in df.itertuples():\n",
    "    count+=1\n",
    "    try:\n",
    "        df.timezone_str.at[line.Index] = tf.timezone_at(lat = df.iloc[line.Index]['lat'],\n",
    "                                                          lng = df.iloc[line.Index]['lon'])\n",
    "    except Exception as e:\n",
    "        print(e)\n",
    "        break\n",
    "    #if count == 10:\n",
    "        #break\n",
    "end = time.time()\n",
    "print(\"task completed in \"+str((end-start)/60)+\" minutes\")"
   ]
  },
  {
   "cell_type": "code",
   "execution_count": 20,
   "metadata": {
    "scrolled": false
   },
   "outputs": [
    {
     "data": {
      "text/html": [
       "<div>\n",
       "<style scoped>\n",
       "    .dataframe tbody tr th:only-of-type {\n",
       "        vertical-align: middle;\n",
       "    }\n",
       "\n",
       "    .dataframe tbody tr th {\n",
       "        vertical-align: top;\n",
       "    }\n",
       "\n",
       "    .dataframe thead th {\n",
       "        text-align: right;\n",
       "    }\n",
       "</style>\n",
       "<table border=\"1\" class=\"dataframe\">\n",
       "  <thead>\n",
       "    <tr style=\"text-align: right;\">\n",
       "      <th></th>\n",
       "      <th>name</th>\n",
       "      <th>time</th>\n",
       "      <th>country</th>\n",
       "      <th>state</th>\n",
       "      <th>lat</th>\n",
       "      <th>lon</th>\n",
       "      <th>timezone_str</th>\n",
       "    </tr>\n",
       "  </thead>\n",
       "  <tbody>\n",
       "    <tr>\n",
       "      <th>555</th>\n",
       "      <td>Data Showdown 2019</td>\n",
       "      <td>1.559115e+12</td>\n",
       "      <td>au</td>\n",
       "      <td>au</td>\n",
       "      <td>-33.87</td>\n",
       "      <td>151.21</td>\n",
       "      <td>Australia/Sydney</td>\n",
       "    </tr>\n",
       "    <tr>\n",
       "      <th>556</th>\n",
       "      <td>Database DevOps - Keep Your Delivery Processe...</td>\n",
       "      <td>1.557356e+12</td>\n",
       "      <td>us</td>\n",
       "      <td>nc</td>\n",
       "      <td>35.89</td>\n",
       "      <td>-78.64</td>\n",
       "      <td>America/New_York</td>\n",
       "    </tr>\n",
       "    <tr>\n",
       "      <th>557</th>\n",
       "      <td>Day Hiking Course -  Conditioning Hiking Seri...</td>\n",
       "      <td>1.554944e+12</td>\n",
       "      <td>us</td>\n",
       "      <td>wa</td>\n",
       "      <td>46.99</td>\n",
       "      <td>-122.87</td>\n",
       "      <td>America/Los_Angeles</td>\n",
       "    </tr>\n",
       "    <tr>\n",
       "      <th>558</th>\n",
       "      <td>DeFi NYC Presents Investing in DeFi</td>\n",
       "      <td>1.554763e+12</td>\n",
       "      <td>us</td>\n",
       "      <td>ny</td>\n",
       "      <td>40.72</td>\n",
       "      <td>-74.00</td>\n",
       "      <td>America/New_York</td>\n",
       "    </tr>\n",
       "    <tr>\n",
       "      <th>559</th>\n",
       "      <td>Dealing with stress, anxiety and work-life ba...</td>\n",
       "      <td>1.554313e+12</td>\n",
       "      <td>gb</td>\n",
       "      <td>gb</td>\n",
       "      <td>51.52</td>\n",
       "      <td>-0.10</td>\n",
       "      <td>Europe/London</td>\n",
       "    </tr>\n",
       "    <tr>\n",
       "      <th>560</th>\n",
       "      <td>Debate Meetup</td>\n",
       "      <td>1.556235e+12</td>\n",
       "      <td>ca</td>\n",
       "      <td>ab</td>\n",
       "      <td>51.04</td>\n",
       "      <td>-114.06</td>\n",
       "      <td>America/Edmonton</td>\n",
       "    </tr>\n",
       "    <tr>\n",
       "      <th>561</th>\n",
       "      <td>Deep Ellum Instagram Photowalk</td>\n",
       "      <td>1.557680e+12</td>\n",
       "      <td>us</td>\n",
       "      <td>tx</td>\n",
       "      <td>32.78</td>\n",
       "      <td>-96.78</td>\n",
       "      <td>America/Chicago</td>\n",
       "    </tr>\n",
       "    <tr>\n",
       "      <th>562</th>\n",
       "      <td>Deep Ellum Instagram Photowalk</td>\n",
       "      <td>1.555276e+12</td>\n",
       "      <td>us</td>\n",
       "      <td>tx</td>\n",
       "      <td>32.78</td>\n",
       "      <td>-96.78</td>\n",
       "      <td>America/Chicago</td>\n",
       "    </tr>\n",
       "    <tr>\n",
       "      <th>563</th>\n",
       "      <td>Deep Ellum Instagram Photowalk</td>\n",
       "      <td>1.555261e+12</td>\n",
       "      <td>us</td>\n",
       "      <td>tx</td>\n",
       "      <td>32.78</td>\n",
       "      <td>-96.78</td>\n",
       "      <td>America/Chicago</td>\n",
       "    </tr>\n",
       "    <tr>\n",
       "      <th>564</th>\n",
       "      <td>Delaware River Labor Day Weekend Camping</td>\n",
       "      <td>1.567188e+12</td>\n",
       "      <td>us</td>\n",
       "      <td>nj</td>\n",
       "      <td>40.79</td>\n",
       "      <td>-74.49</td>\n",
       "      <td>America/New_York</td>\n",
       "    </tr>\n",
       "  </tbody>\n",
       "</table>\n",
       "</div>"
      ],
      "text/plain": [
       "                                                  name          time country  \\\n",
       "555                                 Data Showdown 2019  1.559115e+12      au   \n",
       "556   Database DevOps - Keep Your Delivery Processe...  1.557356e+12      us   \n",
       "557   Day Hiking Course -  Conditioning Hiking Seri...  1.554944e+12      us   \n",
       "558                DeFi NYC Presents Investing in DeFi  1.554763e+12      us   \n",
       "559   Dealing with stress, anxiety and work-life ba...  1.554313e+12      gb   \n",
       "560                                      Debate Meetup  1.556235e+12      ca   \n",
       "561                     Deep Ellum Instagram Photowalk  1.557680e+12      us   \n",
       "562                     Deep Ellum Instagram Photowalk  1.555276e+12      us   \n",
       "563                     Deep Ellum Instagram Photowalk  1.555261e+12      us   \n",
       "564          Delaware River Labor Day Weekend Camping   1.567188e+12      us   \n",
       "\n",
       "    state    lat     lon         timezone_str  \n",
       "555    au -33.87  151.21     Australia/Sydney  \n",
       "556    nc  35.89  -78.64     America/New_York  \n",
       "557    wa  46.99 -122.87  America/Los_Angeles  \n",
       "558    ny  40.72  -74.00     America/New_York  \n",
       "559    gb  51.52   -0.10        Europe/London  \n",
       "560    ab  51.04 -114.06     America/Edmonton  \n",
       "561    tx  32.78  -96.78      America/Chicago  \n",
       "562    tx  32.78  -96.78      America/Chicago  \n",
       "563    tx  32.78  -96.78      America/Chicago  \n",
       "564    nj  40.79  -74.49     America/New_York  "
      ]
     },
     "execution_count": 20,
     "metadata": {},
     "output_type": "execute_result"
    }
   ],
   "source": [
    "df[555:565] #check"
   ]
  },
  {
   "cell_type": "code",
   "execution_count": 21,
   "metadata": {},
   "outputs": [
    {
     "data": {
      "text/plain": [
       "name             object\n",
       "time            float64\n",
       "country          object\n",
       "state            object\n",
       "lat             float64\n",
       "lon             float64\n",
       "timezone_str     object\n",
       "dtype: object"
      ]
     },
     "execution_count": 21,
     "metadata": {},
     "output_type": "execute_result"
    }
   ],
   "source": [
    "df.dtypes"
   ]
  },
  {
   "cell_type": "code",
   "execution_count": 22,
   "metadata": {},
   "outputs": [],
   "source": [
    "#this step is dated (only for convert apoc in neo)\n",
    "#df['time'] = pd.to_datetime(df['time']) #convert time (object) into datettime type (needed fro convert after into timestamp)"
   ]
  },
  {
   "cell_type": "code",
   "execution_count": 23,
   "metadata": {},
   "outputs": [
    {
     "data": {
      "text/plain": [
       "\"df['timestamp'] = df.fillna(value=pd.np.nan, inplace=True) #fill with nan value\\nstart = time.time()\\ncount = 0\\nfor line in df.itertuples():\\n    count+=1\\n    try:\\n        df['timestamp'].at[line.Index] = dt.timestamp(df.iloc[line.Index]['time'])\\n    except Exception as e:\\n        print(e)\\n        break\\n    #if count == 100:\\n        #break\\nend = time.time()\\nprint('task completed in '+str((end-start)/60)+' minutes')\""
      ]
     },
     "execution_count": 23,
     "metadata": {},
     "output_type": "execute_result"
    }
   ],
   "source": [
    "##this step is dated (only for convert apoc in neo)\n",
    "'''df['timestamp'] = df.fillna(value=pd.np.nan, inplace=True) #fill with nan value\n",
    "start = time.time()\n",
    "count = 0\n",
    "for line in df.itertuples():\n",
    "    count+=1\n",
    "    try:\n",
    "        df['timestamp'].at[line.Index] = dt.timestamp(df.iloc[line.Index]['time'])\n",
    "    except Exception as e:\n",
    "        print(e)\n",
    "        break\n",
    "    #if count == 100:\n",
    "        #break\n",
    "end = time.time()\n",
    "print('task completed in '+str((end-start)/60)+' minutes')'''"
   ]
  },
  {
   "cell_type": "code",
   "execution_count": 24,
   "metadata": {
    "scrolled": true
   },
   "outputs": [
    {
     "data": {
      "text/html": [
       "<div>\n",
       "<style scoped>\n",
       "    .dataframe tbody tr th:only-of-type {\n",
       "        vertical-align: middle;\n",
       "    }\n",
       "\n",
       "    .dataframe tbody tr th {\n",
       "        vertical-align: top;\n",
       "    }\n",
       "\n",
       "    .dataframe thead th {\n",
       "        text-align: right;\n",
       "    }\n",
       "</style>\n",
       "<table border=\"1\" class=\"dataframe\">\n",
       "  <thead>\n",
       "    <tr style=\"text-align: right;\">\n",
       "      <th></th>\n",
       "      <th>name</th>\n",
       "      <th>time</th>\n",
       "      <th>country</th>\n",
       "      <th>state</th>\n",
       "      <th>lat</th>\n",
       "      <th>lon</th>\n",
       "      <th>timezone_str</th>\n",
       "    </tr>\n",
       "  </thead>\n",
       "  <tbody>\n",
       "    <tr>\n",
       "      <th>0</th>\n",
       "      <td>\bLunch meetup at Shanghai Slims 13th April Sat...</td>\n",
       "      <td>1.555128e+12</td>\n",
       "      <td>cn</td>\n",
       "      <td>cn</td>\n",
       "      <td>31.23</td>\n",
       "      <td>121.47</td>\n",
       "      <td>Asia/Shanghai</td>\n",
       "    </tr>\n",
       "    <tr>\n",
       "      <th>1</th>\n",
       "      <td>\\t Meetup Salud M\\u00f3vil, IA Salud - Observa...</td>\n",
       "      <td>1.554413e+12</td>\n",
       "      <td>co</td>\n",
       "      <td>co</td>\n",
       "      <td>6.25</td>\n",
       "      <td>-75.59</td>\n",
       "      <td>America/Bogota</td>\n",
       "    </tr>\n",
       "    <tr>\n",
       "      <th>2</th>\n",
       "      <td>\\t Rob Thomas: Chip Tooth Tour</td>\n",
       "      <td>1.560213e+12</td>\n",
       "      <td>us</td>\n",
       "      <td>co</td>\n",
       "      <td>39.70</td>\n",
       "      <td>-105.08</td>\n",
       "      <td>America/Denver</td>\n",
       "    </tr>\n",
       "    <tr>\n",
       "      <th>3</th>\n",
       "      <td>\\tHayden Island</td>\n",
       "      <td>1.554568e+12</td>\n",
       "      <td>us</td>\n",
       "      <td>or</td>\n",
       "      <td>45.44</td>\n",
       "      <td>-122.77</td>\n",
       "      <td>America/Los_Angeles</td>\n",
       "    </tr>\n",
       "    <tr>\n",
       "      <th>4</th>\n",
       "      <td>\\tNorth - University of Portland</td>\n",
       "      <td>1.555173e+12</td>\n",
       "      <td>us</td>\n",
       "      <td>or</td>\n",
       "      <td>45.44</td>\n",
       "      <td>-122.77</td>\n",
       "      <td>America/Los_Angeles</td>\n",
       "    </tr>\n",
       "    <tr>\n",
       "      <th>5</th>\n",
       "      <td>\\tPhunsukh Wangdu Isolated Camping</td>\n",
       "      <td>1.554532e+12</td>\n",
       "      <td>in</td>\n",
       "      <td>in</td>\n",
       "      <td>12.97</td>\n",
       "      <td>77.56</td>\n",
       "      <td>Asia/Kolkata</td>\n",
       "    </tr>\n",
       "    <tr>\n",
       "      <th>6</th>\n",
       "      <td>\\tSevern Shires Way part 4, Farnborough to Mid...</td>\n",
       "      <td>1.554628e+12</td>\n",
       "      <td>gb</td>\n",
       "      <td>gb</td>\n",
       "      <td>51.76</td>\n",
       "      <td>-1.26</td>\n",
       "      <td>Europe/London</td>\n",
       "    </tr>\n",
       "    <tr>\n",
       "      <th>7</th>\n",
       "      <td>\\tSpeak EZ Toastemasters</td>\n",
       "      <td>1.555024e+12</td>\n",
       "      <td>us</td>\n",
       "      <td>tx</td>\n",
       "      <td>32.96</td>\n",
       "      <td>-96.75</td>\n",
       "      <td>America/Chicago</td>\n",
       "    </tr>\n",
       "    <tr>\n",
       "      <th>8</th>\n",
       "      <td>\\tSpeak EZ Toastemasters</td>\n",
       "      <td>1.554419e+12</td>\n",
       "      <td>us</td>\n",
       "      <td>tx</td>\n",
       "      <td>32.96</td>\n",
       "      <td>-96.75</td>\n",
       "      <td>America/Chicago</td>\n",
       "    </tr>\n",
       "    <tr>\n",
       "      <th>9</th>\n",
       "      <td>\\tWine and Paint Party - Unicorn Painting</td>\n",
       "      <td>1.555206e+12</td>\n",
       "      <td>nz</td>\n",
       "      <td>nz</td>\n",
       "      <td>-36.85</td>\n",
       "      <td>174.76</td>\n",
       "      <td>Pacific/Auckland</td>\n",
       "    </tr>\n",
       "  </tbody>\n",
       "</table>\n",
       "</div>"
      ],
      "text/plain": [
       "                                                name          time country  \\\n",
       "0  \bLunch meetup at Shanghai Slims 13th April Sat...  1.555128e+12      cn   \n",
       "1  \\t Meetup Salud M\\u00f3vil, IA Salud - Observa...  1.554413e+12      co   \n",
       "2                     \\t Rob Thomas: Chip Tooth Tour  1.560213e+12      us   \n",
       "3                                    \\tHayden Island  1.554568e+12      us   \n",
       "4                   \\tNorth - University of Portland  1.555173e+12      us   \n",
       "5                 \\tPhunsukh Wangdu Isolated Camping  1.554532e+12      in   \n",
       "6  \\tSevern Shires Way part 4, Farnborough to Mid...  1.554628e+12      gb   \n",
       "7                           \\tSpeak EZ Toastemasters  1.555024e+12      us   \n",
       "8                           \\tSpeak EZ Toastemasters  1.554419e+12      us   \n",
       "9          \\tWine and Paint Party - Unicorn Painting  1.555206e+12      nz   \n",
       "\n",
       "  state    lat     lon         timezone_str  \n",
       "0    cn  31.23  121.47        Asia/Shanghai  \n",
       "1    co   6.25  -75.59       America/Bogota  \n",
       "2    co  39.70 -105.08       America/Denver  \n",
       "3    or  45.44 -122.77  America/Los_Angeles  \n",
       "4    or  45.44 -122.77  America/Los_Angeles  \n",
       "5    in  12.97   77.56         Asia/Kolkata  \n",
       "6    gb  51.76   -1.26        Europe/London  \n",
       "7    tx  32.96  -96.75      America/Chicago  \n",
       "8    tx  32.96  -96.75      America/Chicago  \n",
       "9    nz -36.85  174.76     Pacific/Auckland  "
      ]
     },
     "execution_count": 24,
     "metadata": {},
     "output_type": "execute_result"
    }
   ],
   "source": [
    "df.head(10) #check"
   ]
  },
  {
   "cell_type": "code",
   "execution_count": 25,
   "metadata": {},
   "outputs": [],
   "source": [
    "def rounder(t): #this function round the time to nearest hour\n",
    "    if t.minute >= 30:\n",
    "        if t.hour == 23:\n",
    "            return t.replace(second=0, microsecond=0, minute=0, hour=0)\n",
    "        else:\n",
    "            return t.replace(second=0, microsecond=0, minute=0, hour= t.hour+1)\n",
    "    else:\n",
    "        return t.replace(second=0, microsecond=0, minute=0)"
   ]
  },
  {
   "cell_type": "code",
   "execution_count": 26,
   "metadata": {},
   "outputs": [],
   "source": [
    "df['datetime_timezoned'] = df.fillna(value=pd.np.nan, inplace=True) #fill with nan value"
   ]
  },
  {
   "cell_type": "code",
   "execution_count": 27,
   "metadata": {},
   "outputs": [
    {
     "data": {
      "text/plain": [
       "name                   object\n",
       "time                  float64\n",
       "country                object\n",
       "state                  object\n",
       "lat                   float64\n",
       "lon                   float64\n",
       "timezone_str           object\n",
       "datetime_timezoned     object\n",
       "dtype: object"
      ]
     },
     "execution_count": 27,
     "metadata": {},
     "output_type": "execute_result"
    }
   ],
   "source": [
    "df['datetime_timezoned'] = df['datetime_timezoned'].astype(object) #convert for resolve error in the cell above (should not be a number)\n",
    "df.dtypes"
   ]
  },
  {
   "cell_type": "code",
   "execution_count": 28,
   "metadata": {
    "scrolled": true
   },
   "outputs": [
    {
     "name": "stdout",
     "output_type": "stream",
     "text": [
      "task completed in 1.7703694184621175 minutes\n"
     ]
    }
   ],
   "source": [
    "start = time.time()\n",
    "count = 0\n",
    "for line in df.itertuples():\n",
    "    count+=1\n",
    "    try:\n",
    "        df.datetime_timezoned.at[line.Index] = rounder((dt.fromtimestamp\n",
    "                                                   (timestamp = (df.iloc[line.Index]['time'])/1000,\n",
    "                                                    tz = pytz.timezone(df.iloc[line.Index]['timezone_str'])\n",
    "                                                   ))).strftime(\"%d/%m/%Y %H:%M:%S\")\n",
    "    except Exception as e:\n",
    "        print(e)\n",
    "        break\n",
    "    #if count == 100:\n",
    "        #break\n",
    "end = time.time()\n",
    "print('task completed in '+str((end-start)/60)+' minutes')"
   ]
  },
  {
   "cell_type": "code",
   "execution_count": 29,
   "metadata": {
    "scrolled": true
   },
   "outputs": [
    {
     "data": {
      "text/html": [
       "<div>\n",
       "<style scoped>\n",
       "    .dataframe tbody tr th:only-of-type {\n",
       "        vertical-align: middle;\n",
       "    }\n",
       "\n",
       "    .dataframe tbody tr th {\n",
       "        vertical-align: top;\n",
       "    }\n",
       "\n",
       "    .dataframe thead th {\n",
       "        text-align: right;\n",
       "    }\n",
       "</style>\n",
       "<table border=\"1\" class=\"dataframe\">\n",
       "  <thead>\n",
       "    <tr style=\"text-align: right;\">\n",
       "      <th></th>\n",
       "      <th>name</th>\n",
       "      <th>country</th>\n",
       "      <th>state</th>\n",
       "      <th>lat</th>\n",
       "      <th>lon</th>\n",
       "      <th>timezone_str</th>\n",
       "      <th>time</th>\n",
       "      <th>datetime_timezoned</th>\n",
       "    </tr>\n",
       "  </thead>\n",
       "  <tbody>\n",
       "    <tr>\n",
       "      <th>0</th>\n",
       "      <td>\bLunch meetup at Shanghai Slims 13th April Sat...</td>\n",
       "      <td>cn</td>\n",
       "      <td>cn</td>\n",
       "      <td>31.23</td>\n",
       "      <td>121.47</td>\n",
       "      <td>Asia/Shanghai</td>\n",
       "      <td>1.555128e+12</td>\n",
       "      <td>13/04/2019 12:00:00</td>\n",
       "    </tr>\n",
       "    <tr>\n",
       "      <th>1</th>\n",
       "      <td>\\t Meetup Salud M\\u00f3vil, IA Salud - Observa...</td>\n",
       "      <td>co</td>\n",
       "      <td>co</td>\n",
       "      <td>6.25</td>\n",
       "      <td>-75.59</td>\n",
       "      <td>America/Bogota</td>\n",
       "      <td>1.554413e+12</td>\n",
       "      <td>04/04/2019 17:00:00</td>\n",
       "    </tr>\n",
       "    <tr>\n",
       "      <th>2</th>\n",
       "      <td>\\t Rob Thomas: Chip Tooth Tour</td>\n",
       "      <td>us</td>\n",
       "      <td>co</td>\n",
       "      <td>39.70</td>\n",
       "      <td>-105.08</td>\n",
       "      <td>America/Denver</td>\n",
       "      <td>1.560213e+12</td>\n",
       "      <td>10/06/2019 19:00:00</td>\n",
       "    </tr>\n",
       "    <tr>\n",
       "      <th>3</th>\n",
       "      <td>\\tHayden Island</td>\n",
       "      <td>us</td>\n",
       "      <td>or</td>\n",
       "      <td>45.44</td>\n",
       "      <td>-122.77</td>\n",
       "      <td>America/Los_Angeles</td>\n",
       "      <td>1.554568e+12</td>\n",
       "      <td>06/04/2019 10:00:00</td>\n",
       "    </tr>\n",
       "    <tr>\n",
       "      <th>4</th>\n",
       "      <td>\\tNorth - University of Portland</td>\n",
       "      <td>us</td>\n",
       "      <td>or</td>\n",
       "      <td>45.44</td>\n",
       "      <td>-122.77</td>\n",
       "      <td>America/Los_Angeles</td>\n",
       "      <td>1.555173e+12</td>\n",
       "      <td>13/04/2019 10:00:00</td>\n",
       "    </tr>\n",
       "    <tr>\n",
       "      <th>5</th>\n",
       "      <td>\\tPhunsukh Wangdu Isolated Camping</td>\n",
       "      <td>in</td>\n",
       "      <td>in</td>\n",
       "      <td>12.97</td>\n",
       "      <td>77.56</td>\n",
       "      <td>Asia/Kolkata</td>\n",
       "      <td>1.554532e+12</td>\n",
       "      <td>06/04/2019 12:00:00</td>\n",
       "    </tr>\n",
       "    <tr>\n",
       "      <th>6</th>\n",
       "      <td>\\tSevern Shires Way part 4, Farnborough to Mid...</td>\n",
       "      <td>gb</td>\n",
       "      <td>gb</td>\n",
       "      <td>51.76</td>\n",
       "      <td>-1.26</td>\n",
       "      <td>Europe/London</td>\n",
       "      <td>1.554628e+12</td>\n",
       "      <td>07/04/2019 10:00:00</td>\n",
       "    </tr>\n",
       "    <tr>\n",
       "      <th>7</th>\n",
       "      <td>\\tSpeak EZ Toastemasters</td>\n",
       "      <td>us</td>\n",
       "      <td>tx</td>\n",
       "      <td>32.96</td>\n",
       "      <td>-96.75</td>\n",
       "      <td>America/Chicago</td>\n",
       "      <td>1.555024e+12</td>\n",
       "      <td>11/04/2019 18:00:00</td>\n",
       "    </tr>\n",
       "    <tr>\n",
       "      <th>8</th>\n",
       "      <td>\\tSpeak EZ Toastemasters</td>\n",
       "      <td>us</td>\n",
       "      <td>tx</td>\n",
       "      <td>32.96</td>\n",
       "      <td>-96.75</td>\n",
       "      <td>America/Chicago</td>\n",
       "      <td>1.554419e+12</td>\n",
       "      <td>04/04/2019 18:00:00</td>\n",
       "    </tr>\n",
       "    <tr>\n",
       "      <th>9</th>\n",
       "      <td>\\tWine and Paint Party - Unicorn Painting</td>\n",
       "      <td>nz</td>\n",
       "      <td>nz</td>\n",
       "      <td>-36.85</td>\n",
       "      <td>174.76</td>\n",
       "      <td>Pacific/Auckland</td>\n",
       "      <td>1.555206e+12</td>\n",
       "      <td>14/04/2019 14:00:00</td>\n",
       "    </tr>\n",
       "  </tbody>\n",
       "</table>\n",
       "</div>"
      ],
      "text/plain": [
       "                                                name country state    lat  \\\n",
       "0  \bLunch meetup at Shanghai Slims 13th April Sat...      cn    cn  31.23   \n",
       "1  \\t Meetup Salud M\\u00f3vil, IA Salud - Observa...      co    co   6.25   \n",
       "2                     \\t Rob Thomas: Chip Tooth Tour      us    co  39.70   \n",
       "3                                    \\tHayden Island      us    or  45.44   \n",
       "4                   \\tNorth - University of Portland      us    or  45.44   \n",
       "5                 \\tPhunsukh Wangdu Isolated Camping      in    in  12.97   \n",
       "6  \\tSevern Shires Way part 4, Farnborough to Mid...      gb    gb  51.76   \n",
       "7                           \\tSpeak EZ Toastemasters      us    tx  32.96   \n",
       "8                           \\tSpeak EZ Toastemasters      us    tx  32.96   \n",
       "9          \\tWine and Paint Party - Unicorn Painting      nz    nz -36.85   \n",
       "\n",
       "      lon         timezone_str          time   datetime_timezoned  \n",
       "0  121.47        Asia/Shanghai  1.555128e+12  13/04/2019 12:00:00  \n",
       "1  -75.59       America/Bogota  1.554413e+12  04/04/2019 17:00:00  \n",
       "2 -105.08       America/Denver  1.560213e+12  10/06/2019 19:00:00  \n",
       "3 -122.77  America/Los_Angeles  1.554568e+12  06/04/2019 10:00:00  \n",
       "4 -122.77  America/Los_Angeles  1.555173e+12  13/04/2019 10:00:00  \n",
       "5   77.56         Asia/Kolkata  1.554532e+12  06/04/2019 12:00:00  \n",
       "6   -1.26        Europe/London  1.554628e+12  07/04/2019 10:00:00  \n",
       "7  -96.75      America/Chicago  1.555024e+12  11/04/2019 18:00:00  \n",
       "8  -96.75      America/Chicago  1.554419e+12  04/04/2019 18:00:00  \n",
       "9  174.76     Pacific/Auckland  1.555206e+12  14/04/2019 14:00:00  "
      ]
     },
     "execution_count": 29,
     "metadata": {},
     "output_type": "execute_result"
    }
   ],
   "source": [
    "df = df[[c for c in df if c not in ['timezone_str','time','datetime_timezoned']] + ['timezone_str','time','datetime_timezoned']]\n",
    "df.head(10) #re-order column"
   ]
  },
  {
   "cell_type": "code",
   "execution_count": 30,
   "metadata": {},
   "outputs": [],
   "source": [
    "df.to_csv('I:/Massi/Documents/GitHub/NeoMeetup/csv/exported_queries/Distribuzione_temporale_eventi_fix.csv') #csv"
   ]
  },
  {
   "cell_type": "code",
   "execution_count": 31,
   "metadata": {},
   "outputs": [
    {
     "name": "stdout",
     "output_type": "stream",
     "text": [
      "script completed in 3.812490542729696 minutes\n"
     ]
    }
   ],
   "source": [
    "end_fin = time.time()\n",
    "print(\"script completed in \"+str((end_fin-start_ini)/60)+\" minutes\")"
   ]
  }
 ],
 "metadata": {
  "kernelspec": {
   "display_name": "Python 3",
   "language": "python",
   "name": "python3"
  },
  "language_info": {
   "codemirror_mode": {
    "name": "ipython",
    "version": 3
   },
   "file_extension": ".py",
   "mimetype": "text/x-python",
   "name": "python",
   "nbconvert_exporter": "python",
   "pygments_lexer": "ipython3",
   "version": "3.6.4"
  }
 },
 "nbformat": 4,
 "nbformat_minor": 2
}
