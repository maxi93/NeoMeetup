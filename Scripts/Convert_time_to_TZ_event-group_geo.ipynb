{
 "cells": [
  {
   "cell_type": "code",
   "execution_count": 1,
   "metadata": {},
   "outputs": [],
   "source": [
    "import pandas as pd\n",
    "from pytz import country_timezones\n",
    "import time\n",
    "import numpy as np\n",
    "import timezonefinder\n",
    "from datetime import datetime as dt\n",
    "import pytz\n",
    "import calendar\n",
    "import seaborn as sns\n",
    "%matplotlib inline\n",
    "from matplotlib import rcParams"
   ]
  },
  {
   "cell_type": "code",
   "execution_count": 2,
   "metadata": {},
   "outputs": [],
   "source": [
    "start_ini = time.time() #check time"
   ]
  },
  {
   "cell_type": "code",
   "execution_count": 3,
   "metadata": {},
   "outputs": [],
   "source": [
    "import warnings\n",
    "warnings.filterwarnings('ignore') #remove warning"
   ]
  },
  {
   "cell_type": "code",
   "execution_count": 4,
   "metadata": {
    "scrolled": true
   },
   "outputs": [
    {
     "data": {
      "text/html": [
       "<div>\n",
       "<style scoped>\n",
       "    .dataframe tbody tr th:only-of-type {\n",
       "        vertical-align: middle;\n",
       "    }\n",
       "\n",
       "    .dataframe tbody tr th {\n",
       "        vertical-align: top;\n",
       "    }\n",
       "\n",
       "    .dataframe thead th {\n",
       "        text-align: right;\n",
       "    }\n",
       "</style>\n",
       "<table border=\"1\" class=\"dataframe\">\n",
       "  <thead>\n",
       "    <tr style=\"text-align: right;\">\n",
       "      <th></th>\n",
       "      <th>Name</th>\n",
       "      <th>Time</th>\n",
       "      <th>Country</th>\n",
       "      <th>State</th>\n",
       "      <th>Lon</th>\n",
       "      <th>Lat</th>\n",
       "    </tr>\n",
       "  </thead>\n",
       "  <tbody>\n",
       "    <tr>\n",
       "      <th>0</th>\n",
       "      <td>\\tAnnual New Year's Resolution Hiking Pedernal...</td>\n",
       "      <td>05/01/2019 13:00:00</td>\n",
       "      <td>us</td>\n",
       "      <td>TX</td>\n",
       "      <td>-98.67</td>\n",
       "      <td>29.46</td>\n",
       "    </tr>\n",
       "    <tr>\n",
       "      <th>1</th>\n",
       "      <td>\\tDance for Kids 7-12</td>\n",
       "      <td>03/01/2019 23:00:00</td>\n",
       "      <td>us</td>\n",
       "      <td>AZ</td>\n",
       "      <td>-110.89</td>\n",
       "      <td>32.22</td>\n",
       "    </tr>\n",
       "    <tr>\n",
       "      <th>2</th>\n",
       "      <td>\\tEasy Four Mile Creek Greenway MATTHEWS</td>\n",
       "      <td>29/12/2018 18:30:00</td>\n",
       "      <td>us</td>\n",
       "      <td>NC</td>\n",
       "      <td>-80.78</td>\n",
       "      <td>35.29</td>\n",
       "    </tr>\n",
       "    <tr>\n",
       "      <th>3</th>\n",
       "      <td>\\tGIRLS NIGHT OUT !!! MEN IN MOTION MALE REVIE...</td>\n",
       "      <td>17/02/2019 00:00:00</td>\n",
       "      <td>us</td>\n",
       "      <td>CT</td>\n",
       "      <td>-72.67</td>\n",
       "      <td>41.77</td>\n",
       "    </tr>\n",
       "    <tr>\n",
       "      <th>4</th>\n",
       "      <td>\\tSpeak EZ Toastemasters</td>\n",
       "      <td>28/12/2018 00:00:00</td>\n",
       "      <td>us</td>\n",
       "      <td>TX</td>\n",
       "      <td>-96.75</td>\n",
       "      <td>32.96</td>\n",
       "    </tr>\n",
       "  </tbody>\n",
       "</table>\n",
       "</div>"
      ],
      "text/plain": [
       "                                                Name                 Time  \\\n",
       "0  \\tAnnual New Year's Resolution Hiking Pedernal...  05/01/2019 13:00:00   \n",
       "1                             \\tDance for Kids 7-12   03/01/2019 23:00:00   \n",
       "2           \\tEasy Four Mile Creek Greenway MATTHEWS  29/12/2018 18:30:00   \n",
       "3  \\tGIRLS NIGHT OUT !!! MEN IN MOTION MALE REVIE...  17/02/2019 00:00:00   \n",
       "4                           \\tSpeak EZ Toastemasters  28/12/2018 00:00:00   \n",
       "\n",
       "  Country State      Lon    Lat  \n",
       "0      us    TX   -98.67  29.46  \n",
       "1      us    AZ  -110.89  32.22  \n",
       "2      us    NC   -80.78  35.29  \n",
       "3      us    CT   -72.67  41.77  \n",
       "4      us    TX   -96.75  32.96  "
      ]
     },
     "execution_count": 4,
     "metadata": {},
     "output_type": "execute_result"
    }
   ],
   "source": [
    "#import dataset\n",
    "df = pd.read_csv('I:/Massi/Documents/GitHub/NeoMeetup/Csv/Exported_queries/Distribuzione_temporale_eventi.csv')\n",
    "df.head()"
   ]
  },
  {
   "cell_type": "code",
   "execution_count": 5,
   "metadata": {},
   "outputs": [
    {
     "data": {
      "text/html": [
       "<div>\n",
       "<style scoped>\n",
       "    .dataframe tbody tr th:only-of-type {\n",
       "        vertical-align: middle;\n",
       "    }\n",
       "\n",
       "    .dataframe tbody tr th {\n",
       "        vertical-align: top;\n",
       "    }\n",
       "\n",
       "    .dataframe thead th {\n",
       "        text-align: right;\n",
       "    }\n",
       "</style>\n",
       "<table border=\"1\" class=\"dataframe\">\n",
       "  <thead>\n",
       "    <tr style=\"text-align: right;\">\n",
       "      <th></th>\n",
       "      <th>Name</th>\n",
       "      <th>Time</th>\n",
       "      <th>Country</th>\n",
       "      <th>State</th>\n",
       "      <th>Lon</th>\n",
       "      <th>Lat</th>\n",
       "    </tr>\n",
       "  </thead>\n",
       "  <tbody>\n",
       "    <tr>\n",
       "      <th>10</th>\n",
       "      <td>NaN</td>\n",
       "      <td>27/01/2019 10:00:00</td>\n",
       "      <td>gb</td>\n",
       "      <td>none</td>\n",
       "      <td>-0.07</td>\n",
       "      <td>51.49</td>\n",
       "    </tr>\n",
       "    <tr>\n",
       "      <th>14</th>\n",
       "      <td>\\n\\u2018Call Me by Your Name\\u2019 \\u2013 Prin...</td>\n",
       "      <td>27/12/2018 15:15:00</td>\n",
       "      <td>gb</td>\n",
       "      <td>none</td>\n",
       "      <td>-0.1</td>\n",
       "      <td>51.52</td>\n",
       "    </tr>\n",
       "    <tr>\n",
       "      <th>15</th>\n",
       "      <td>\\n\\u2018Call Me by Your Name\\u2019 \\u2013 Prin...</td>\n",
       "      <td>27/12/2018 15:15:00</td>\n",
       "      <td>gb</td>\n",
       "      <td>none</td>\n",
       "      <td>-0.05</td>\n",
       "      <td>51.5</td>\n",
       "    </tr>\n",
       "    <tr>\n",
       "      <th>16</th>\n",
       "      <td>\\n\\u2018Shoplifters\\u2019 \\u2013 Prince Charle...</td>\n",
       "      <td>05/01/2019 14:50:00</td>\n",
       "      <td>gb</td>\n",
       "      <td>none</td>\n",
       "      <td>-0.4</td>\n",
       "      <td>51.67</td>\n",
       "    </tr>\n",
       "    <tr>\n",
       "      <th>17</th>\n",
       "      <td>\\n\\u2018Shoplifters\\u2019 \\u2013 Prince Charle...</td>\n",
       "      <td>05/01/2019 14:50:00</td>\n",
       "      <td>gb</td>\n",
       "      <td>none</td>\n",
       "      <td>-0.1</td>\n",
       "      <td>51.52</td>\n",
       "    </tr>\n",
       "  </tbody>\n",
       "</table>\n",
       "</div>"
      ],
      "text/plain": [
       "                                                 Name                 Time  \\\n",
       "10                                                NaN  27/01/2019 10:00:00   \n",
       "14  \\n\\u2018Call Me by Your Name\\u2019 \\u2013 Prin...  27/12/2018 15:15:00   \n",
       "15  \\n\\u2018Call Me by Your Name\\u2019 \\u2013 Prin...  27/12/2018 15:15:00   \n",
       "16  \\n\\u2018Shoplifters\\u2019 \\u2013 Prince Charle...  05/01/2019 14:50:00   \n",
       "17  \\n\\u2018Shoplifters\\u2019 \\u2013 Prince Charle...  05/01/2019 14:50:00   \n",
       "\n",
       "   Country State    Lon    Lat  \n",
       "10      gb  none  -0.07  51.49  \n",
       "14      gb  none   -0.1  51.52  \n",
       "15      gb  none  -0.05   51.5  \n",
       "16      gb  none   -0.4  51.67  \n",
       "17      gb  none   -0.1  51.52  "
      ]
     },
     "execution_count": 5,
     "metadata": {},
     "output_type": "execute_result"
    }
   ],
   "source": [
    "df['State'] = df['State'].str.lower() #lower charcter 'NONE'-->'none'\n",
    "df[df['State'] == 'none'].head()"
   ]
  },
  {
   "cell_type": "code",
   "execution_count": 6,
   "metadata": {},
   "outputs": [],
   "source": [
    "df.loc[df['State'] == 'none', 'State'] = df['Country'] #fill the state's value with country's value if there was 'none'"
   ]
  },
  {
   "cell_type": "code",
   "execution_count": 7,
   "metadata": {},
   "outputs": [
    {
     "data": {
      "text/plain": [
       "Name        41\n",
       "Time       102\n",
       "Country    102\n",
       "State      102\n",
       "Lon        102\n",
       "Lat        102\n",
       "dtype: int64"
      ]
     },
     "execution_count": 7,
     "metadata": {},
     "output_type": "execute_result"
    }
   ],
   "source": [
    "df.isnull().sum() #check sum of nan fro columns"
   ]
  },
  {
   "cell_type": "code",
   "execution_count": 8,
   "metadata": {},
   "outputs": [],
   "source": [
    "df = df.dropna() #rm nan value for all df (rows)"
   ]
  },
  {
   "cell_type": "code",
   "execution_count": 9,
   "metadata": {},
   "outputs": [
    {
     "data": {
      "text/plain": [
       "Name       False\n",
       "Time       False\n",
       "Country    False\n",
       "State      False\n",
       "Lon        False\n",
       "Lat        False\n",
       "dtype: bool"
      ]
     },
     "execution_count": 9,
     "metadata": {},
     "output_type": "execute_result"
    }
   ],
   "source": [
    "df.isnull().any() #check"
   ]
  },
  {
   "cell_type": "code",
   "execution_count": 10,
   "metadata": {},
   "outputs": [],
   "source": [
    "#df.loc[df['State'] == 'none', 'State'] = df.fillna(value=pd.np.nan, inplace=True) \n",
    "#it's only if would take nan into country that do not have a state"
   ]
  },
  {
   "cell_type": "code",
   "execution_count": 11,
   "metadata": {},
   "outputs": [
    {
     "data": {
      "text/plain": [
       "Name       0\n",
       "Time       0\n",
       "Country    0\n",
       "State      0\n",
       "Lon        0\n",
       "Lat        0\n",
       "dtype: int64"
      ]
     },
     "execution_count": 11,
     "metadata": {},
     "output_type": "execute_result"
    }
   ],
   "source": [
    "df.isnull().sum() #check"
   ]
  },
  {
   "cell_type": "code",
   "execution_count": 12,
   "metadata": {
    "scrolled": true
   },
   "outputs": [
    {
     "data": {
      "text/plain": [
       "Name       False\n",
       "Time       False\n",
       "Country    False\n",
       "State      False\n",
       "Lon        False\n",
       "Lat        False\n",
       "dtype: bool"
      ]
     },
     "execution_count": 12,
     "metadata": {},
     "output_type": "execute_result"
    }
   ],
   "source": [
    "df.isnull().any() #another check :/"
   ]
  },
  {
   "cell_type": "code",
   "execution_count": 13,
   "metadata": {},
   "outputs": [
    {
     "data": {
      "text/plain": [
       "Name        0\n",
       "Time        0\n",
       "Country     0\n",
       "State       0\n",
       "Lon        48\n",
       "Lat         9\n",
       "dtype: int64"
      ]
     },
     "execution_count": 13,
     "metadata": {},
     "output_type": "execute_result"
    }
   ],
   "source": [
    "#same method for cheò nan value into coordinates\n",
    "df['Lon'] = df['Lon'].str.lower()\n",
    "df['Lat'] = df['Lat'].str.lower()\n",
    "df.loc[df['Lon'] == 'none', 'Lon'] = df.fillna(value=pd.np.nan, inplace=True)\n",
    "df.loc[df['Lat'] == 'none', 'Lat'] = df.fillna(value=pd.np.nan, inplace=True)\n",
    "df.isnull().sum()"
   ]
  },
  {
   "cell_type": "code",
   "execution_count": 14,
   "metadata": {
    "scrolled": true
   },
   "outputs": [
    {
     "data": {
      "text/plain": [
       "Name       0\n",
       "Time       0\n",
       "Country    0\n",
       "State      0\n",
       "Lon        0\n",
       "Lat        0\n",
       "dtype: int64"
      ]
     },
     "execution_count": 14,
     "metadata": {},
     "output_type": "execute_result"
    }
   ],
   "source": [
    "df = df.dropna() #remove this nan\n",
    "df.isnull().sum()"
   ]
  },
  {
   "cell_type": "code",
   "execution_count": 15,
   "metadata": {
    "scrolled": true
   },
   "outputs": [
    {
     "data": {
      "text/html": [
       "<div>\n",
       "<style scoped>\n",
       "    .dataframe tbody tr th:only-of-type {\n",
       "        vertical-align: middle;\n",
       "    }\n",
       "\n",
       "    .dataframe tbody tr th {\n",
       "        vertical-align: top;\n",
       "    }\n",
       "\n",
       "    .dataframe thead th {\n",
       "        text-align: right;\n",
       "    }\n",
       "</style>\n",
       "<table border=\"1\" class=\"dataframe\">\n",
       "  <thead>\n",
       "    <tr style=\"text-align: right;\">\n",
       "      <th></th>\n",
       "      <th>Name</th>\n",
       "      <th>Time</th>\n",
       "      <th>Country</th>\n",
       "      <th>State</th>\n",
       "      <th>Lon</th>\n",
       "      <th>Lat</th>\n",
       "    </tr>\n",
       "  </thead>\n",
       "  <tbody>\n",
       "    <tr>\n",
       "      <th>211357</th>\n",
       "      <td>~~ 70's &amp; 80's Saturday Night Dance Party ~~</td>\n",
       "      <td>13/01/2019 01:30:00</td>\n",
       "      <td>us</td>\n",
       "      <td>ny</td>\n",
       "      <td>-73.69</td>\n",
       "      <td>40.98</td>\n",
       "    </tr>\n",
       "    <tr>\n",
       "      <th>211358</th>\n",
       "      <td>~~ 70's &amp; 80's Saturday Night Dance Party ~~</td>\n",
       "      <td>13/01/2019 01:30:00</td>\n",
       "      <td>us</td>\n",
       "      <td>ct</td>\n",
       "      <td>-73.45</td>\n",
       "      <td>41.39</td>\n",
       "    </tr>\n",
       "    <tr>\n",
       "      <th>211359</th>\n",
       "      <td>~~ 70's &amp; 80's Saturday Night Dance Party ~~</td>\n",
       "      <td>13/01/2019 01:30:00</td>\n",
       "      <td>us</td>\n",
       "      <td>ny</td>\n",
       "      <td>-73.86</td>\n",
       "      <td>41.08</td>\n",
       "    </tr>\n",
       "    <tr>\n",
       "      <th>211360</th>\n",
       "      <td>~~ 70's &amp; 80's Saturday Night Dance Party ~~</td>\n",
       "      <td>13/01/2019 01:30:00</td>\n",
       "      <td>us</td>\n",
       "      <td>ct</td>\n",
       "      <td>-73.63</td>\n",
       "      <td>41.04</td>\n",
       "    </tr>\n",
       "    <tr>\n",
       "      <th>211361</th>\n",
       "      <td>~~ HAPPY NEW YEAR 2019 Pinochle PLUS......Game...</td>\n",
       "      <td>13/01/2019 00:00:00</td>\n",
       "      <td>us</td>\n",
       "      <td>pa</td>\n",
       "      <td>-75.14</td>\n",
       "      <td>40</td>\n",
       "    </tr>\n",
       "  </tbody>\n",
       "</table>\n",
       "</div>"
      ],
      "text/plain": [
       "                                                     Name  \\\n",
       "211357       ~~ 70's & 80's Saturday Night Dance Party ~~   \n",
       "211358       ~~ 70's & 80's Saturday Night Dance Party ~~   \n",
       "211359       ~~ 70's & 80's Saturday Night Dance Party ~~   \n",
       "211360       ~~ 70's & 80's Saturday Night Dance Party ~~   \n",
       "211361  ~~ HAPPY NEW YEAR 2019 Pinochle PLUS......Game...   \n",
       "\n",
       "                       Time Country State     Lon    Lat  \n",
       "211357  13/01/2019 01:30:00      us    ny  -73.69  40.98  \n",
       "211358  13/01/2019 01:30:00      us    ct  -73.45  41.39  \n",
       "211359  13/01/2019 01:30:00      us    ny  -73.86  41.08  \n",
       "211360  13/01/2019 01:30:00      us    ct  -73.63  41.04  \n",
       "211361  13/01/2019 00:00:00      us    pa  -75.14     40  "
      ]
     },
     "execution_count": 15,
     "metadata": {},
     "output_type": "execute_result"
    }
   ],
   "source": [
    "df.tail() #df clean"
   ]
  },
  {
   "cell_type": "code",
   "execution_count": 16,
   "metadata": {
    "scrolled": true
   },
   "outputs": [
    {
     "data": {
      "text/plain": [
       "Name        object\n",
       "Time        object\n",
       "Country     object\n",
       "State       object\n",
       "Lon        float64\n",
       "Lat        float64\n",
       "dtype: object"
      ]
     },
     "execution_count": 16,
     "metadata": {},
     "output_type": "execute_result"
    }
   ],
   "source": [
    "df['Lon'] = df['Lon'].astype(float) #convert coordinates into float for problem into cell below (timezonefinder)\n",
    "df['Lat'] = df['Lat'].astype(float)\n",
    "df.dtypes"
   ]
  },
  {
   "cell_type": "code",
   "execution_count": 17,
   "metadata": {},
   "outputs": [],
   "source": [
    "df = df[[c for c in df if c not in ['Lat','Lon']] + ['Lat','Lon']] #change order of column for best position of Lat and lng"
   ]
  },
  {
   "cell_type": "code",
   "execution_count": 18,
   "metadata": {},
   "outputs": [],
   "source": [
    "df = df.reset_index(drop=True) #reset index for resolve eroor of out-bounded"
   ]
  },
  {
   "cell_type": "code",
   "execution_count": 19,
   "metadata": {},
   "outputs": [
    {
     "name": "stdout",
     "output_type": "stream",
     "text": [
      "task completed in 1.2866118709246317 minutes\n"
     ]
    }
   ],
   "source": [
    "tf = timezonefinder.TimezoneFinder() #defining time zones on lat, long data\n",
    "df['timezone_str'] = \"nan\"\n",
    "count = 0\n",
    "start = time.time()\n",
    "for line in df.itertuples():\n",
    "    count+=1\n",
    "    try:\n",
    "        df.timezone_str.at[line.Index] = tf.timezone_at(lat = df.iloc[line.Index]['Lat'],\n",
    "                                                          lng = df.iloc[line.Index]['Lon'])\n",
    "    except Exception as e:\n",
    "        print(e)\n",
    "        break\n",
    "    #if count == 10:\n",
    "        #break\n",
    "end = time.time()\n",
    "print(\"task completed in \"+str((end-start)/60)+\" minutes\")"
   ]
  },
  {
   "cell_type": "code",
   "execution_count": 20,
   "metadata": {
    "scrolled": false
   },
   "outputs": [
    {
     "data": {
      "text/html": [
       "<div>\n",
       "<style scoped>\n",
       "    .dataframe tbody tr th:only-of-type {\n",
       "        vertical-align: middle;\n",
       "    }\n",
       "\n",
       "    .dataframe tbody tr th {\n",
       "        vertical-align: top;\n",
       "    }\n",
       "\n",
       "    .dataframe thead th {\n",
       "        text-align: right;\n",
       "    }\n",
       "</style>\n",
       "<table border=\"1\" class=\"dataframe\">\n",
       "  <thead>\n",
       "    <tr style=\"text-align: right;\">\n",
       "      <th></th>\n",
       "      <th>Name</th>\n",
       "      <th>Time</th>\n",
       "      <th>Country</th>\n",
       "      <th>State</th>\n",
       "      <th>Lat</th>\n",
       "      <th>Lon</th>\n",
       "      <th>timezone_str</th>\n",
       "    </tr>\n",
       "  </thead>\n",
       "  <tbody>\n",
       "    <tr>\n",
       "      <th>50</th>\n",
       "      <td>Lift your Spirits with Laughter!  Join us fo...</td>\n",
       "      <td>05/01/2019 19:00:00</td>\n",
       "      <td>us</td>\n",
       "      <td>ny</td>\n",
       "      <td>43.17</td>\n",
       "      <td>-77.60</td>\n",
       "      <td>America/New_York</td>\n",
       "    </tr>\n",
       "    <tr>\n",
       "      <th>51</th>\n",
       "      <td>Look forward to seeing you next week!!  No R...</td>\n",
       "      <td>04/01/2019 00:30:00</td>\n",
       "      <td>us</td>\n",
       "      <td>la</td>\n",
       "      <td>30.45</td>\n",
       "      <td>-91.06</td>\n",
       "      <td>America/Chicago</td>\n",
       "    </tr>\n",
       "    <tr>\n",
       "      <th>52</th>\n",
       "      <td>Meditation to Remove Addictions with Rene De...</td>\n",
       "      <td>29/01/2019 02:00:00</td>\n",
       "      <td>us</td>\n",
       "      <td>nv</td>\n",
       "      <td>36.19</td>\n",
       "      <td>-115.39</td>\n",
       "      <td>America/Los_Angeles</td>\n",
       "    </tr>\n",
       "    <tr>\n",
       "      <th>53</th>\n",
       "      <td>New Years Eve Invitation from the SHAHENSHAH...</td>\n",
       "      <td>01/01/2019 01:00:00</td>\n",
       "      <td>us</td>\n",
       "      <td>va</td>\n",
       "      <td>38.82</td>\n",
       "      <td>-77.29</td>\n",
       "      <td>America/New_York</td>\n",
       "    </tr>\n",
       "    <tr>\n",
       "      <th>54</th>\n",
       "      <td>New Years Eve Invitation from the SHAHENSHAH...</td>\n",
       "      <td>01/01/2019 01:00:00</td>\n",
       "      <td>us</td>\n",
       "      <td>md</td>\n",
       "      <td>39.29</td>\n",
       "      <td>-76.62</td>\n",
       "      <td>America/New_York</td>\n",
       "    </tr>\n",
       "    <tr>\n",
       "      <th>55</th>\n",
       "      <td>New Years Eve Invitation from the SHAHENSHAH...</td>\n",
       "      <td>01/01/2019 01:00:00</td>\n",
       "      <td>us</td>\n",
       "      <td>dc</td>\n",
       "      <td>38.91</td>\n",
       "      <td>-77.02</td>\n",
       "      <td>America/New_York</td>\n",
       "    </tr>\n",
       "    <tr>\n",
       "      <th>56</th>\n",
       "      <td>Nunsense @ Southside Theatre Guild</td>\n",
       "      <td>27/01/2019 19:30:00</td>\n",
       "      <td>us</td>\n",
       "      <td>ga</td>\n",
       "      <td>33.83</td>\n",
       "      <td>-84.39</td>\n",
       "      <td>America/New_York</td>\n",
       "    </tr>\n",
       "    <tr>\n",
       "      <th>57</th>\n",
       "      <td>Oratory Otters Club Meeting</td>\n",
       "      <td>01/01/2019 02:00:00</td>\n",
       "      <td>us</td>\n",
       "      <td>ca</td>\n",
       "      <td>37.39</td>\n",
       "      <td>-121.90</td>\n",
       "      <td>America/Los_Angeles</td>\n",
       "    </tr>\n",
       "    <tr>\n",
       "      <th>58</th>\n",
       "      <td>Peppercorns</td>\n",
       "      <td>29/01/2019 00:00:00</td>\n",
       "      <td>us</td>\n",
       "      <td>ny</td>\n",
       "      <td>40.69</td>\n",
       "      <td>-73.56</td>\n",
       "      <td>America/New_York</td>\n",
       "    </tr>\n",
       "    <tr>\n",
       "      <th>59</th>\n",
       "      <td>Post January Saturday Afternoon Pub Crawl</td>\n",
       "      <td>02/02/2019 12:30:00</td>\n",
       "      <td>gb</td>\n",
       "      <td>gb</td>\n",
       "      <td>52.48</td>\n",
       "      <td>-1.91</td>\n",
       "      <td>Europe/London</td>\n",
       "    </tr>\n",
       "    <tr>\n",
       "      <th>60</th>\n",
       "      <td>RHCSA Study Group Session #2 - Chapter 2 - L...</td>\n",
       "      <td>05/01/2019 16:00:00</td>\n",
       "      <td>us</td>\n",
       "      <td>tx</td>\n",
       "      <td>33.06</td>\n",
       "      <td>-96.74</td>\n",
       "      <td>America/Chicago</td>\n",
       "    </tr>\n",
       "    <tr>\n",
       "      <th>61</th>\n",
       "      <td>RHCSA Study Group Session #3 - Chapter 2 - L...</td>\n",
       "      <td>12/01/2019 16:00:00</td>\n",
       "      <td>us</td>\n",
       "      <td>tx</td>\n",
       "      <td>33.06</td>\n",
       "      <td>-96.74</td>\n",
       "      <td>America/Chicago</td>\n",
       "    </tr>\n",
       "    <tr>\n",
       "      <th>62</th>\n",
       "      <td>RHCSA Study Group Session #4 - Chapter 3 - F...</td>\n",
       "      <td>19/01/2019 16:00:00</td>\n",
       "      <td>us</td>\n",
       "      <td>tx</td>\n",
       "      <td>33.06</td>\n",
       "      <td>-96.74</td>\n",
       "      <td>America/Chicago</td>\n",
       "    </tr>\n",
       "    <tr>\n",
       "      <th>63</th>\n",
       "      <td>Reservoir - Random axis band- NW corner main...</td>\n",
       "      <td>30/12/2018 01:45:00</td>\n",
       "      <td>us</td>\n",
       "      <td>tx</td>\n",
       "      <td>32.83</td>\n",
       "      <td>-96.77</td>\n",
       "      <td>America/Chicago</td>\n",
       "    </tr>\n",
       "    <tr>\n",
       "      <th>64</th>\n",
       "      <td>Sacred Healing Circle for Men</td>\n",
       "      <td>20/03/2019 02:00:00</td>\n",
       "      <td>us</td>\n",
       "      <td>ca</td>\n",
       "      <td>33.15</td>\n",
       "      <td>-117.31</td>\n",
       "      <td>America/Los_Angeles</td>\n",
       "    </tr>\n",
       "    <tr>\n",
       "      <th>65</th>\n",
       "      <td>Shut up and Write ~ Creative happy hour</td>\n",
       "      <td>31/01/2019 18:00:00</td>\n",
       "      <td>lu</td>\n",
       "      <td>lu</td>\n",
       "      <td>49.62</td>\n",
       "      <td>6.12</td>\n",
       "      <td>Europe/Luxembourg</td>\n",
       "    </tr>\n",
       "    <tr>\n",
       "      <th>66</th>\n",
       "      <td>Shut up and Write ~ Creative happy hour</td>\n",
       "      <td>27/12/2018 18:00:00</td>\n",
       "      <td>lu</td>\n",
       "      <td>lu</td>\n",
       "      <td>49.62</td>\n",
       "      <td>6.12</td>\n",
       "      <td>Europe/Luxembourg</td>\n",
       "    </tr>\n",
       "    <tr>\n",
       "      <th>67</th>\n",
       "      <td>TAROT DE MARSEILLE \\u00e0 BRUXELLES au MOKA-...</td>\n",
       "      <td>02/01/2019 15:00:00</td>\n",
       "      <td>fr</td>\n",
       "      <td>fr</td>\n",
       "      <td>48.86</td>\n",
       "      <td>2.34</td>\n",
       "      <td>Europe/Paris</td>\n",
       "    </tr>\n",
       "    <tr>\n",
       "      <th>68</th>\n",
       "      <td>TAROT DE MARSEILLE au BISTRO DU CENTRE 131 r...</td>\n",
       "      <td>09/01/2019 15:00:00</td>\n",
       "      <td>fr</td>\n",
       "      <td>fr</td>\n",
       "      <td>48.86</td>\n",
       "      <td>2.34</td>\n",
       "      <td>Europe/Paris</td>\n",
       "    </tr>\n",
       "    <tr>\n",
       "      <th>69</th>\n",
       "      <td>West Fork Trail at beautiful Indian Canyons ...</td>\n",
       "      <td>19/02/2019 16:30:00</td>\n",
       "      <td>us</td>\n",
       "      <td>ca</td>\n",
       "      <td>33.61</td>\n",
       "      <td>-117.64</td>\n",
       "      <td>America/Los_Angeles</td>\n",
       "    </tr>\n",
       "  </tbody>\n",
       "</table>\n",
       "</div>"
      ],
      "text/plain": [
       "                                                 Name                 Time  \\\n",
       "50    Lift your Spirits with Laughter!  Join us fo...  05/01/2019 19:00:00   \n",
       "51    Look forward to seeing you next week!!  No R...  04/01/2019 00:30:00   \n",
       "52    Meditation to Remove Addictions with Rene De...  29/01/2019 02:00:00   \n",
       "53    New Years Eve Invitation from the SHAHENSHAH...  01/01/2019 01:00:00   \n",
       "54    New Years Eve Invitation from the SHAHENSHAH...  01/01/2019 01:00:00   \n",
       "55    New Years Eve Invitation from the SHAHENSHAH...  01/01/2019 01:00:00   \n",
       "56                 Nunsense @ Southside Theatre Guild  27/01/2019 19:30:00   \n",
       "57                       Oratory Otters Club Meeting   01/01/2019 02:00:00   \n",
       "58                                       Peppercorns   29/01/2019 00:00:00   \n",
       "59          Post January Saturday Afternoon Pub Crawl  02/02/2019 12:30:00   \n",
       "60    RHCSA Study Group Session #2 - Chapter 2 - L...  05/01/2019 16:00:00   \n",
       "61    RHCSA Study Group Session #3 - Chapter 2 - L...  12/01/2019 16:00:00   \n",
       "62    RHCSA Study Group Session #4 - Chapter 3 - F...  19/01/2019 16:00:00   \n",
       "63    Reservoir - Random axis band- NW corner main...  30/12/2018 01:45:00   \n",
       "64                     Sacred Healing Circle for Men   20/03/2019 02:00:00   \n",
       "65           Shut up and Write ~ Creative happy hour   31/01/2019 18:00:00   \n",
       "66           Shut up and Write ~ Creative happy hour   27/12/2018 18:00:00   \n",
       "67    TAROT DE MARSEILLE \\u00e0 BRUXELLES au MOKA-...  02/01/2019 15:00:00   \n",
       "68    TAROT DE MARSEILLE au BISTRO DU CENTRE 131 r...  09/01/2019 15:00:00   \n",
       "69    West Fork Trail at beautiful Indian Canyons ...  19/02/2019 16:30:00   \n",
       "\n",
       "   Country State    Lat     Lon         timezone_str  \n",
       "50      us    ny  43.17  -77.60     America/New_York  \n",
       "51      us    la  30.45  -91.06      America/Chicago  \n",
       "52      us    nv  36.19 -115.39  America/Los_Angeles  \n",
       "53      us    va  38.82  -77.29     America/New_York  \n",
       "54      us    md  39.29  -76.62     America/New_York  \n",
       "55      us    dc  38.91  -77.02     America/New_York  \n",
       "56      us    ga  33.83  -84.39     America/New_York  \n",
       "57      us    ca  37.39 -121.90  America/Los_Angeles  \n",
       "58      us    ny  40.69  -73.56     America/New_York  \n",
       "59      gb    gb  52.48   -1.91        Europe/London  \n",
       "60      us    tx  33.06  -96.74      America/Chicago  \n",
       "61      us    tx  33.06  -96.74      America/Chicago  \n",
       "62      us    tx  33.06  -96.74      America/Chicago  \n",
       "63      us    tx  32.83  -96.77      America/Chicago  \n",
       "64      us    ca  33.15 -117.31  America/Los_Angeles  \n",
       "65      lu    lu  49.62    6.12    Europe/Luxembourg  \n",
       "66      lu    lu  49.62    6.12    Europe/Luxembourg  \n",
       "67      fr    fr  48.86    2.34         Europe/Paris  \n",
       "68      fr    fr  48.86    2.34         Europe/Paris  \n",
       "69      us    ca  33.61 -117.64  America/Los_Angeles  "
      ]
     },
     "execution_count": 20,
     "metadata": {},
     "output_type": "execute_result"
    }
   ],
   "source": [
    "df[50:70] #check"
   ]
  },
  {
   "cell_type": "code",
   "execution_count": 21,
   "metadata": {},
   "outputs": [
    {
     "data": {
      "text/plain": [
       "Name             object\n",
       "Time             object\n",
       "Country          object\n",
       "State            object\n",
       "Lat             float64\n",
       "Lon             float64\n",
       "timezone_str     object\n",
       "dtype: object"
      ]
     },
     "execution_count": 21,
     "metadata": {},
     "output_type": "execute_result"
    }
   ],
   "source": [
    "df.dtypes"
   ]
  },
  {
   "cell_type": "code",
   "execution_count": 22,
   "metadata": {},
   "outputs": [],
   "source": [
    "df['Time'] = pd.to_datetime(df['Time']) #convert time (object) into datettime type (needed fro convert after into timestamp)"
   ]
  },
  {
   "cell_type": "code",
   "execution_count": 23,
   "metadata": {},
   "outputs": [
    {
     "name": "stdout",
     "output_type": "stream",
     "text": [
      "task completed in 0.651246964931488 minutes\n"
     ]
    }
   ],
   "source": [
    "df['timestamp'] = df.fillna(value=pd.np.nan, inplace=True) #fill with nan value\n",
    "start = time.time()\n",
    "count = 0\n",
    "for line in df.itertuples():\n",
    "    count+=1\n",
    "    try:\n",
    "        df['timestamp'].at[line.Index] = dt.timestamp(df.iloc[line.Index]['Time'])\n",
    "    except Exception as e:\n",
    "        print(e)\n",
    "        break\n",
    "    #if count == 100:\n",
    "        #break\n",
    "end = time.time()\n",
    "print('task completed in '+str((end-start)/60)+' minutes')"
   ]
  },
  {
   "cell_type": "code",
   "execution_count": 24,
   "metadata": {
    "scrolled": true
   },
   "outputs": [
    {
     "data": {
      "text/html": [
       "<div>\n",
       "<style scoped>\n",
       "    .dataframe tbody tr th:only-of-type {\n",
       "        vertical-align: middle;\n",
       "    }\n",
       "\n",
       "    .dataframe tbody tr th {\n",
       "        vertical-align: top;\n",
       "    }\n",
       "\n",
       "    .dataframe thead th {\n",
       "        text-align: right;\n",
       "    }\n",
       "</style>\n",
       "<table border=\"1\" class=\"dataframe\">\n",
       "  <thead>\n",
       "    <tr style=\"text-align: right;\">\n",
       "      <th></th>\n",
       "      <th>Name</th>\n",
       "      <th>Time</th>\n",
       "      <th>Country</th>\n",
       "      <th>State</th>\n",
       "      <th>Lat</th>\n",
       "      <th>Lon</th>\n",
       "      <th>timezone_str</th>\n",
       "      <th>timestamp</th>\n",
       "    </tr>\n",
       "  </thead>\n",
       "  <tbody>\n",
       "    <tr>\n",
       "      <th>0</th>\n",
       "      <td>\\tAnnual New Year's Resolution Hiking Pedernal...</td>\n",
       "      <td>2019-05-01 13:00:00</td>\n",
       "      <td>us</td>\n",
       "      <td>tx</td>\n",
       "      <td>29.46</td>\n",
       "      <td>-98.67</td>\n",
       "      <td>America/Chicago</td>\n",
       "      <td>1.55671e+09</td>\n",
       "    </tr>\n",
       "    <tr>\n",
       "      <th>1</th>\n",
       "      <td>\\tDance for Kids 7-12</td>\n",
       "      <td>2019-03-01 23:00:00</td>\n",
       "      <td>us</td>\n",
       "      <td>az</td>\n",
       "      <td>32.22</td>\n",
       "      <td>-110.89</td>\n",
       "      <td>America/Phoenix</td>\n",
       "      <td>1.55148e+09</td>\n",
       "    </tr>\n",
       "    <tr>\n",
       "      <th>2</th>\n",
       "      <td>\\tEasy Four Mile Creek Greenway MATTHEWS</td>\n",
       "      <td>2018-12-29 18:30:00</td>\n",
       "      <td>us</td>\n",
       "      <td>nc</td>\n",
       "      <td>35.29</td>\n",
       "      <td>-80.78</td>\n",
       "      <td>America/New_York</td>\n",
       "      <td>1.5461e+09</td>\n",
       "    </tr>\n",
       "    <tr>\n",
       "      <th>3</th>\n",
       "      <td>\\tGIRLS NIGHT OUT !!! MEN IN MOTION MALE REVIE...</td>\n",
       "      <td>2019-02-17 00:00:00</td>\n",
       "      <td>us</td>\n",
       "      <td>ct</td>\n",
       "      <td>41.77</td>\n",
       "      <td>-72.67</td>\n",
       "      <td>America/New_York</td>\n",
       "      <td>1.55036e+09</td>\n",
       "    </tr>\n",
       "    <tr>\n",
       "      <th>4</th>\n",
       "      <td>\\tSpeak EZ Toastemasters</td>\n",
       "      <td>2018-12-28 00:00:00</td>\n",
       "      <td>us</td>\n",
       "      <td>tx</td>\n",
       "      <td>32.96</td>\n",
       "      <td>-96.75</td>\n",
       "      <td>America/Chicago</td>\n",
       "      <td>1.54595e+09</td>\n",
       "    </tr>\n",
       "    <tr>\n",
       "      <th>5</th>\n",
       "      <td>\\tSpeak EZ Toastemasters</td>\n",
       "      <td>2019-11-01 00:00:00</td>\n",
       "      <td>us</td>\n",
       "      <td>tx</td>\n",
       "      <td>32.96</td>\n",
       "      <td>-96.75</td>\n",
       "      <td>America/Chicago</td>\n",
       "      <td>1.57256e+09</td>\n",
       "    </tr>\n",
       "    <tr>\n",
       "      <th>6</th>\n",
       "      <td>\\tSpecial Small Group Meetings - Off-Site Loca...</td>\n",
       "      <td>2019-01-25 12:45:00</td>\n",
       "      <td>us</td>\n",
       "      <td>tn</td>\n",
       "      <td>36.00</td>\n",
       "      <td>-86.79</td>\n",
       "      <td>America/Chicago</td>\n",
       "      <td>1.54842e+09</td>\n",
       "    </tr>\n",
       "    <tr>\n",
       "      <th>7</th>\n",
       "      <td>\\tTech Center Park</td>\n",
       "      <td>2018-12-26 18:00:00</td>\n",
       "      <td>us</td>\n",
       "      <td>or</td>\n",
       "      <td>45.44</td>\n",
       "      <td>-122.77</td>\n",
       "      <td>America/Los_Angeles</td>\n",
       "      <td>1.54584e+09</td>\n",
       "    </tr>\n",
       "    <tr>\n",
       "      <th>8</th>\n",
       "      <td>\\tValuing People- Hal Hadden, facilitating</td>\n",
       "      <td>2019-01-18 12:45:00</td>\n",
       "      <td>us</td>\n",
       "      <td>tn</td>\n",
       "      <td>36.00</td>\n",
       "      <td>-86.79</td>\n",
       "      <td>America/Chicago</td>\n",
       "      <td>1.54781e+09</td>\n",
       "    </tr>\n",
       "    <tr>\n",
       "      <th>9</th>\n",
       "      <td>Shamanic Breathwork with Akasha NohAta</td>\n",
       "      <td>2018-12-29 00:00:00</td>\n",
       "      <td>us</td>\n",
       "      <td>pa</td>\n",
       "      <td>40.21</td>\n",
       "      <td>-75.08</td>\n",
       "      <td>America/New_York</td>\n",
       "      <td>1.54604e+09</td>\n",
       "    </tr>\n",
       "  </tbody>\n",
       "</table>\n",
       "</div>"
      ],
      "text/plain": [
       "                                                Name                Time  \\\n",
       "0  \\tAnnual New Year's Resolution Hiking Pedernal... 2019-05-01 13:00:00   \n",
       "1                             \\tDance for Kids 7-12  2019-03-01 23:00:00   \n",
       "2           \\tEasy Four Mile Creek Greenway MATTHEWS 2018-12-29 18:30:00   \n",
       "3  \\tGIRLS NIGHT OUT !!! MEN IN MOTION MALE REVIE... 2019-02-17 00:00:00   \n",
       "4                           \\tSpeak EZ Toastemasters 2018-12-28 00:00:00   \n",
       "5                           \\tSpeak EZ Toastemasters 2019-11-01 00:00:00   \n",
       "6  \\tSpecial Small Group Meetings - Off-Site Loca... 2019-01-25 12:45:00   \n",
       "7                                 \\tTech Center Park 2018-12-26 18:00:00   \n",
       "8        \\tValuing People- Hal Hadden, facilitating  2019-01-18 12:45:00   \n",
       "9             Shamanic Breathwork with Akasha NohAta 2018-12-29 00:00:00   \n",
       "\n",
       "  Country State    Lat     Lon         timezone_str    timestamp  \n",
       "0      us    tx  29.46  -98.67      America/Chicago  1.55671e+09  \n",
       "1      us    az  32.22 -110.89      America/Phoenix  1.55148e+09  \n",
       "2      us    nc  35.29  -80.78     America/New_York   1.5461e+09  \n",
       "3      us    ct  41.77  -72.67     America/New_York  1.55036e+09  \n",
       "4      us    tx  32.96  -96.75      America/Chicago  1.54595e+09  \n",
       "5      us    tx  32.96  -96.75      America/Chicago  1.57256e+09  \n",
       "6      us    tn  36.00  -86.79      America/Chicago  1.54842e+09  \n",
       "7      us    or  45.44 -122.77  America/Los_Angeles  1.54584e+09  \n",
       "8      us    tn  36.00  -86.79      America/Chicago  1.54781e+09  \n",
       "9      us    pa  40.21  -75.08     America/New_York  1.54604e+09  "
      ]
     },
     "execution_count": 24,
     "metadata": {},
     "output_type": "execute_result"
    }
   ],
   "source": [
    "df.head(10) #check"
   ]
  },
  {
   "cell_type": "code",
   "execution_count": 25,
   "metadata": {},
   "outputs": [],
   "source": [
    "def rounder(t): #this function round the time to nearest hour\n",
    "    if t.minute >= 30:\n",
    "        if t.hour == 23:\n",
    "            return t.replace(second=0, microsecond=0, minute=0, hour=0)\n",
    "        else:\n",
    "            return t.replace(second=0, microsecond=0, minute=0, hour= t.hour+1)\n",
    "    else:\n",
    "        return t.replace(second=0, microsecond=0, minute=0)"
   ]
  },
  {
   "cell_type": "code",
   "execution_count": 26,
   "metadata": {},
   "outputs": [],
   "source": [
    "df['datetime_timezoned'] = df.fillna(value=pd.np.nan, inplace=True) #fill with nan value"
   ]
  },
  {
   "cell_type": "code",
   "execution_count": 27,
   "metadata": {},
   "outputs": [
    {
     "data": {
      "text/plain": [
       "Name                          object\n",
       "Time                  datetime64[ns]\n",
       "Country                       object\n",
       "State                         object\n",
       "Lat                          float64\n",
       "Lon                          float64\n",
       "timezone_str                  object\n",
       "timestamp                    float64\n",
       "datetime_timezoned            object\n",
       "dtype: object"
      ]
     },
     "execution_count": 27,
     "metadata": {},
     "output_type": "execute_result"
    }
   ],
   "source": [
    "df['datetime_timezoned'] = df['datetime_timezoned'].astype(object) #convert for resolve error in the cell above (should not be a number)\n",
    "df.dtypes"
   ]
  },
  {
   "cell_type": "code",
   "execution_count": 28,
   "metadata": {
    "scrolled": true
   },
   "outputs": [
    {
     "name": "stdout",
     "output_type": "stream",
     "text": [
      "task completed in 1.3555020252863565 minutes\n"
     ]
    }
   ],
   "source": [
    "start = time.time()\n",
    "count = 0\n",
    "for line in df.itertuples():\n",
    "    count+=1\n",
    "    try:\n",
    "        df.datetime_timezoned.at[line.Index] = rounder((dt.fromtimestamp\n",
    "                                                   (timestamp = (df.iloc[line.Index]['timestamp']),\n",
    "                                                    tz = pytz.timezone(df.iloc[line.Index]['timezone_str'])\n",
    "                                                   ))).strftime(\"%d/%m/%Y %H:%M:%S\")\n",
    "    except Exception as e:\n",
    "        print(e)\n",
    "        break\n",
    "    #if count == 100:\n",
    "        #break\n",
    "end = time.time()\n",
    "print('task completed in '+str((end-start)/60)+' minutes')"
   ]
  },
  {
   "cell_type": "code",
   "execution_count": 29,
   "metadata": {
    "scrolled": true
   },
   "outputs": [
    {
     "data": {
      "text/html": [
       "<div>\n",
       "<style scoped>\n",
       "    .dataframe tbody tr th:only-of-type {\n",
       "        vertical-align: middle;\n",
       "    }\n",
       "\n",
       "    .dataframe tbody tr th {\n",
       "        vertical-align: top;\n",
       "    }\n",
       "\n",
       "    .dataframe thead th {\n",
       "        text-align: right;\n",
       "    }\n",
       "</style>\n",
       "<table border=\"1\" class=\"dataframe\">\n",
       "  <thead>\n",
       "    <tr style=\"text-align: right;\">\n",
       "      <th></th>\n",
       "      <th>Name</th>\n",
       "      <th>Country</th>\n",
       "      <th>State</th>\n",
       "      <th>Lat</th>\n",
       "      <th>Lon</th>\n",
       "      <th>timezone_str</th>\n",
       "      <th>timestamp</th>\n",
       "      <th>Time</th>\n",
       "      <th>datetime_timezoned</th>\n",
       "    </tr>\n",
       "  </thead>\n",
       "  <tbody>\n",
       "    <tr>\n",
       "      <th>0</th>\n",
       "      <td>\\tAnnual New Year's Resolution Hiking Pedernal...</td>\n",
       "      <td>us</td>\n",
       "      <td>tx</td>\n",
       "      <td>29.46</td>\n",
       "      <td>-98.67</td>\n",
       "      <td>America/Chicago</td>\n",
       "      <td>1.556708e+09</td>\n",
       "      <td>2019-05-01 13:00:00</td>\n",
       "      <td>01/05/2019 06:00:00</td>\n",
       "    </tr>\n",
       "    <tr>\n",
       "      <th>1</th>\n",
       "      <td>\\tDance for Kids 7-12</td>\n",
       "      <td>us</td>\n",
       "      <td>az</td>\n",
       "      <td>32.22</td>\n",
       "      <td>-110.89</td>\n",
       "      <td>America/Phoenix</td>\n",
       "      <td>1.551478e+09</td>\n",
       "      <td>2019-03-01 23:00:00</td>\n",
       "      <td>01/03/2019 15:00:00</td>\n",
       "    </tr>\n",
       "    <tr>\n",
       "      <th>2</th>\n",
       "      <td>\\tEasy Four Mile Creek Greenway MATTHEWS</td>\n",
       "      <td>us</td>\n",
       "      <td>nc</td>\n",
       "      <td>35.29</td>\n",
       "      <td>-80.78</td>\n",
       "      <td>America/New_York</td>\n",
       "      <td>1.546105e+09</td>\n",
       "      <td>2018-12-29 18:30:00</td>\n",
       "      <td>29/12/2018 13:00:00</td>\n",
       "    </tr>\n",
       "    <tr>\n",
       "      <th>3</th>\n",
       "      <td>\\tGIRLS NIGHT OUT !!! MEN IN MOTION MALE REVIE...</td>\n",
       "      <td>us</td>\n",
       "      <td>ct</td>\n",
       "      <td>41.77</td>\n",
       "      <td>-72.67</td>\n",
       "      <td>America/New_York</td>\n",
       "      <td>1.550358e+09</td>\n",
       "      <td>2019-02-17 00:00:00</td>\n",
       "      <td>16/02/2019 18:00:00</td>\n",
       "    </tr>\n",
       "    <tr>\n",
       "      <th>4</th>\n",
       "      <td>\\tSpeak EZ Toastemasters</td>\n",
       "      <td>us</td>\n",
       "      <td>tx</td>\n",
       "      <td>32.96</td>\n",
       "      <td>-96.75</td>\n",
       "      <td>America/Chicago</td>\n",
       "      <td>1.545952e+09</td>\n",
       "      <td>2018-12-28 00:00:00</td>\n",
       "      <td>27/12/2018 17:00:00</td>\n",
       "    </tr>\n",
       "    <tr>\n",
       "      <th>5</th>\n",
       "      <td>\\tSpeak EZ Toastemasters</td>\n",
       "      <td>us</td>\n",
       "      <td>tx</td>\n",
       "      <td>32.96</td>\n",
       "      <td>-96.75</td>\n",
       "      <td>America/Chicago</td>\n",
       "      <td>1.572563e+09</td>\n",
       "      <td>2019-11-01 00:00:00</td>\n",
       "      <td>31/10/2019 18:00:00</td>\n",
       "    </tr>\n",
       "    <tr>\n",
       "      <th>6</th>\n",
       "      <td>\\tSpecial Small Group Meetings - Off-Site Loca...</td>\n",
       "      <td>us</td>\n",
       "      <td>tn</td>\n",
       "      <td>36.00</td>\n",
       "      <td>-86.79</td>\n",
       "      <td>America/Chicago</td>\n",
       "      <td>1.548417e+09</td>\n",
       "      <td>2019-01-25 12:45:00</td>\n",
       "      <td>25/01/2019 06:00:00</td>\n",
       "    </tr>\n",
       "    <tr>\n",
       "      <th>7</th>\n",
       "      <td>\\tTech Center Park</td>\n",
       "      <td>us</td>\n",
       "      <td>or</td>\n",
       "      <td>45.44</td>\n",
       "      <td>-122.77</td>\n",
       "      <td>America/Los_Angeles</td>\n",
       "      <td>1.545844e+09</td>\n",
       "      <td>2018-12-26 18:00:00</td>\n",
       "      <td>26/12/2018 09:00:00</td>\n",
       "    </tr>\n",
       "    <tr>\n",
       "      <th>8</th>\n",
       "      <td>\\tValuing People- Hal Hadden, facilitating</td>\n",
       "      <td>us</td>\n",
       "      <td>tn</td>\n",
       "      <td>36.00</td>\n",
       "      <td>-86.79</td>\n",
       "      <td>America/Chicago</td>\n",
       "      <td>1.547812e+09</td>\n",
       "      <td>2019-01-18 12:45:00</td>\n",
       "      <td>18/01/2019 06:00:00</td>\n",
       "    </tr>\n",
       "    <tr>\n",
       "      <th>9</th>\n",
       "      <td>Shamanic Breathwork with Akasha NohAta</td>\n",
       "      <td>us</td>\n",
       "      <td>pa</td>\n",
       "      <td>40.21</td>\n",
       "      <td>-75.08</td>\n",
       "      <td>America/New_York</td>\n",
       "      <td>1.546038e+09</td>\n",
       "      <td>2018-12-29 00:00:00</td>\n",
       "      <td>28/12/2018 18:00:00</td>\n",
       "    </tr>\n",
       "  </tbody>\n",
       "</table>\n",
       "</div>"
      ],
      "text/plain": [
       "                                                Name Country State    Lat  \\\n",
       "0  \\tAnnual New Year's Resolution Hiking Pedernal...      us    tx  29.46   \n",
       "1                             \\tDance for Kids 7-12       us    az  32.22   \n",
       "2           \\tEasy Four Mile Creek Greenway MATTHEWS      us    nc  35.29   \n",
       "3  \\tGIRLS NIGHT OUT !!! MEN IN MOTION MALE REVIE...      us    ct  41.77   \n",
       "4                           \\tSpeak EZ Toastemasters      us    tx  32.96   \n",
       "5                           \\tSpeak EZ Toastemasters      us    tx  32.96   \n",
       "6  \\tSpecial Small Group Meetings - Off-Site Loca...      us    tn  36.00   \n",
       "7                                 \\tTech Center Park      us    or  45.44   \n",
       "8        \\tValuing People- Hal Hadden, facilitating       us    tn  36.00   \n",
       "9             Shamanic Breathwork with Akasha NohAta      us    pa  40.21   \n",
       "\n",
       "      Lon         timezone_str     timestamp                Time  \\\n",
       "0  -98.67      America/Chicago  1.556708e+09 2019-05-01 13:00:00   \n",
       "1 -110.89      America/Phoenix  1.551478e+09 2019-03-01 23:00:00   \n",
       "2  -80.78     America/New_York  1.546105e+09 2018-12-29 18:30:00   \n",
       "3  -72.67     America/New_York  1.550358e+09 2019-02-17 00:00:00   \n",
       "4  -96.75      America/Chicago  1.545952e+09 2018-12-28 00:00:00   \n",
       "5  -96.75      America/Chicago  1.572563e+09 2019-11-01 00:00:00   \n",
       "6  -86.79      America/Chicago  1.548417e+09 2019-01-25 12:45:00   \n",
       "7 -122.77  America/Los_Angeles  1.545844e+09 2018-12-26 18:00:00   \n",
       "8  -86.79      America/Chicago  1.547812e+09 2019-01-18 12:45:00   \n",
       "9  -75.08     America/New_York  1.546038e+09 2018-12-29 00:00:00   \n",
       "\n",
       "    datetime_timezoned  \n",
       "0  01/05/2019 06:00:00  \n",
       "1  01/03/2019 15:00:00  \n",
       "2  29/12/2018 13:00:00  \n",
       "3  16/02/2019 18:00:00  \n",
       "4  27/12/2018 17:00:00  \n",
       "5  31/10/2019 18:00:00  \n",
       "6  25/01/2019 06:00:00  \n",
       "7  26/12/2018 09:00:00  \n",
       "8  18/01/2019 06:00:00  \n",
       "9  28/12/2018 18:00:00  "
      ]
     },
     "execution_count": 29,
     "metadata": {},
     "output_type": "execute_result"
    }
   ],
   "source": [
    "df = df[[c for c in df if c not in ['timestamp','Time','datetime_timezoned']] + ['timestamp','Time','datetime_timezoned']]\n",
    "df.head(10) #re-order column"
   ]
  },
  {
   "cell_type": "code",
   "execution_count": 30,
   "metadata": {},
   "outputs": [],
   "source": [
    "df.to_csv('I:/Massi/Documents/GitHub/NeoMeetup/Csv/Exported_queries/Distribuzione_temporale_eventi_fix.csv') #csv"
   ]
  },
  {
   "cell_type": "code",
   "execution_count": 31,
   "metadata": {},
   "outputs": [
    {
     "name": "stdout",
     "output_type": "stream",
     "text": [
      "script completed in 3.7282972812652586 minutes\n"
     ]
    }
   ],
   "source": [
    "end_fin = time.time()\n",
    "print(\"script completed in \"+str((end_fin-start_ini)/60)+\" minutes\")"
   ]
  }
 ],
 "metadata": {
  "kernelspec": {
   "display_name": "Python 3",
   "language": "python",
   "name": "python3"
  },
  "language_info": {
   "codemirror_mode": {
    "name": "ipython",
    "version": 3
   },
   "file_extension": ".py",
   "mimetype": "text/x-python",
   "name": "python",
   "nbconvert_exporter": "python",
   "pygments_lexer": "ipython3",
   "version": "3.6.4"
  }
 },
 "nbformat": 4,
 "nbformat_minor": 2
}
