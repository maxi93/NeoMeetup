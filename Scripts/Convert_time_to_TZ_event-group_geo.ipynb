{
 "cells": [
  {
   "cell_type": "code",
   "execution_count": 1,
   "metadata": {},
   "outputs": [],
   "source": [
    "import pandas as pd\n",
    "from pytz import country_timezones\n",
    "import time\n",
    "import numpy as np\n",
    "import timezonefinder\n",
    "from datetime import datetime as dt\n",
    "import pytz\n",
    "import calendar\n",
    "import seaborn as sns\n",
    "%matplotlib inline\n",
    "from matplotlib import rcParams"
   ]
  },
  {
   "cell_type": "code",
   "execution_count": 2,
   "metadata": {},
   "outputs": [],
   "source": [
    "start_ini = time.time() #check time"
   ]
  },
  {
   "cell_type": "code",
   "execution_count": 3,
   "metadata": {},
   "outputs": [],
   "source": [
    "import warnings\n",
    "warnings.filterwarnings('ignore') #remove warning"
   ]
  },
  {
   "cell_type": "code",
   "execution_count": 4,
   "metadata": {
    "scrolled": true
   },
   "outputs": [
    {
     "data": {
      "text/html": [
       "<div>\n",
       "<style scoped>\n",
       "    .dataframe tbody tr th:only-of-type {\n",
       "        vertical-align: middle;\n",
       "    }\n",
       "\n",
       "    .dataframe tbody tr th {\n",
       "        vertical-align: top;\n",
       "    }\n",
       "\n",
       "    .dataframe thead th {\n",
       "        text-align: right;\n",
       "    }\n",
       "</style>\n",
       "<table border=\"1\" class=\"dataframe\">\n",
       "  <thead>\n",
       "    <tr style=\"text-align: right;\">\n",
       "      <th></th>\n",
       "      <th>name</th>\n",
       "      <th>time</th>\n",
       "      <th>country</th>\n",
       "      <th>state</th>\n",
       "      <th>lon</th>\n",
       "      <th>lat</th>\n",
       "    </tr>\n",
       "  </thead>\n",
       "  <tbody>\n",
       "    <tr>\n",
       "      <th>0</th>\n",
       "      <td>\bLunch meetup at Shanghai Slims 13th April Sat...</td>\n",
       "      <td>1.555128e+12</td>\n",
       "      <td>cn</td>\n",
       "      <td>NONE</td>\n",
       "      <td>121.47</td>\n",
       "      <td>31.23</td>\n",
       "    </tr>\n",
       "    <tr>\n",
       "      <th>1</th>\n",
       "      <td>\\t Meetup Salud M\\u00f3vil, IA Salud - Observa...</td>\n",
       "      <td>1.554413e+12</td>\n",
       "      <td>co</td>\n",
       "      <td>NONE</td>\n",
       "      <td>-75.59</td>\n",
       "      <td>6.25</td>\n",
       "    </tr>\n",
       "    <tr>\n",
       "      <th>2</th>\n",
       "      <td>\\t Rob Thomas: Chip Tooth Tour</td>\n",
       "      <td>1.560213e+12</td>\n",
       "      <td>us</td>\n",
       "      <td>CO</td>\n",
       "      <td>-105.08</td>\n",
       "      <td>39.7</td>\n",
       "    </tr>\n",
       "    <tr>\n",
       "      <th>3</th>\n",
       "      <td>\\tHayden Island</td>\n",
       "      <td>1.554568e+12</td>\n",
       "      <td>us</td>\n",
       "      <td>OR</td>\n",
       "      <td>-122.77</td>\n",
       "      <td>45.44</td>\n",
       "    </tr>\n",
       "    <tr>\n",
       "      <th>4</th>\n",
       "      <td>\\tNorth - University of Portland</td>\n",
       "      <td>1.555173e+12</td>\n",
       "      <td>us</td>\n",
       "      <td>OR</td>\n",
       "      <td>-122.77</td>\n",
       "      <td>45.44</td>\n",
       "    </tr>\n",
       "  </tbody>\n",
       "</table>\n",
       "</div>"
      ],
      "text/plain": [
       "                                                name          time country  \\\n",
       "0  \bLunch meetup at Shanghai Slims 13th April Sat...  1.555128e+12      cn   \n",
       "1  \\t Meetup Salud M\\u00f3vil, IA Salud - Observa...  1.554413e+12      co   \n",
       "2                     \\t Rob Thomas: Chip Tooth Tour  1.560213e+12      us   \n",
       "3                                    \\tHayden Island  1.554568e+12      us   \n",
       "4                   \\tNorth - University of Portland  1.555173e+12      us   \n",
       "\n",
       "  state      lon    lat  \n",
       "0  NONE   121.47  31.23  \n",
       "1  NONE   -75.59   6.25  \n",
       "2    CO  -105.08   39.7  \n",
       "3    OR  -122.77  45.44  \n",
       "4    OR  -122.77  45.44  "
      ]
     },
     "execution_count": 4,
     "metadata": {},
     "output_type": "execute_result"
    }
   ],
   "source": [
    "#import dataset\n",
    "df = pd.read_csv('https://media.githubusercontent.com/media/DBertazioli/NeoMeetup/master/csv/exported_queries/Distribuzione_temporale_eventi.csv')\n",
    "df.head()"
   ]
  },
  {
   "cell_type": "code",
   "execution_count": 5,
   "metadata": {},
   "outputs": [
    {
     "data": {
      "text/html": [
       "<div>\n",
       "<style scoped>\n",
       "    .dataframe tbody tr th:only-of-type {\n",
       "        vertical-align: middle;\n",
       "    }\n",
       "\n",
       "    .dataframe tbody tr th {\n",
       "        vertical-align: top;\n",
       "    }\n",
       "\n",
       "    .dataframe thead th {\n",
       "        text-align: right;\n",
       "    }\n",
       "</style>\n",
       "<table border=\"1\" class=\"dataframe\">\n",
       "  <thead>\n",
       "    <tr style=\"text-align: right;\">\n",
       "      <th></th>\n",
       "      <th>name</th>\n",
       "      <th>time</th>\n",
       "      <th>country</th>\n",
       "      <th>state</th>\n",
       "      <th>lon</th>\n",
       "      <th>lat</th>\n",
       "    </tr>\n",
       "  </thead>\n",
       "  <tbody>\n",
       "    <tr>\n",
       "      <th>0</th>\n",
       "      <td>\bLunch meetup at Shanghai Slims 13th April Sat...</td>\n",
       "      <td>1.555128e+12</td>\n",
       "      <td>cn</td>\n",
       "      <td>none</td>\n",
       "      <td>121.47</td>\n",
       "      <td>31.23</td>\n",
       "    </tr>\n",
       "    <tr>\n",
       "      <th>1</th>\n",
       "      <td>\\t Meetup Salud M\\u00f3vil, IA Salud - Observa...</td>\n",
       "      <td>1.554413e+12</td>\n",
       "      <td>co</td>\n",
       "      <td>none</td>\n",
       "      <td>-75.59</td>\n",
       "      <td>6.25</td>\n",
       "    </tr>\n",
       "    <tr>\n",
       "      <th>5</th>\n",
       "      <td>\\tPhunsukh Wangdu Isolated Camping</td>\n",
       "      <td>1.554532e+12</td>\n",
       "      <td>in</td>\n",
       "      <td>none</td>\n",
       "      <td>77.56</td>\n",
       "      <td>12.97</td>\n",
       "    </tr>\n",
       "    <tr>\n",
       "      <th>6</th>\n",
       "      <td>\\tSevern Shires Way part 4, Farnborough to Mid...</td>\n",
       "      <td>1.554628e+12</td>\n",
       "      <td>gb</td>\n",
       "      <td>none</td>\n",
       "      <td>-1.26</td>\n",
       "      <td>51.76</td>\n",
       "    </tr>\n",
       "    <tr>\n",
       "      <th>9</th>\n",
       "      <td>\\tWine and Paint Party - Unicorn Painting</td>\n",
       "      <td>1.555206e+12</td>\n",
       "      <td>nz</td>\n",
       "      <td>none</td>\n",
       "      <td>174.76</td>\n",
       "      <td>-36.85</td>\n",
       "    </tr>\n",
       "  </tbody>\n",
       "</table>\n",
       "</div>"
      ],
      "text/plain": [
       "                                                name          time country  \\\n",
       "0  \bLunch meetup at Shanghai Slims 13th April Sat...  1.555128e+12      cn   \n",
       "1  \\t Meetup Salud M\\u00f3vil, IA Salud - Observa...  1.554413e+12      co   \n",
       "5                 \\tPhunsukh Wangdu Isolated Camping  1.554532e+12      in   \n",
       "6  \\tSevern Shires Way part 4, Farnborough to Mid...  1.554628e+12      gb   \n",
       "9          \\tWine and Paint Party - Unicorn Painting  1.555206e+12      nz   \n",
       "\n",
       "  state     lon    lat  \n",
       "0  none  121.47  31.23  \n",
       "1  none  -75.59   6.25  \n",
       "5  none   77.56  12.97  \n",
       "6  none   -1.26  51.76  \n",
       "9  none  174.76 -36.85  "
      ]
     },
     "execution_count": 5,
     "metadata": {},
     "output_type": "execute_result"
    }
   ],
   "source": [
    "df['state'] = df['state'].str.lower() #lower charcter 'NONE'-->'none'\n",
    "df[df['state'] == 'none'].head()"
   ]
  },
  {
   "cell_type": "code",
   "execution_count": 6,
   "metadata": {},
   "outputs": [],
   "source": [
    "df.loc[df['state'] == 'none', 'state'] = df['country'] #fill the state's value with country's value if there was 'none'"
   ]
  },
  {
   "cell_type": "code",
   "execution_count": 7,
   "metadata": {},
   "outputs": [
    {
     "data": {
      "text/plain": [
       "name        76\n",
       "time       144\n",
       "country    144\n",
       "state      144\n",
       "lon        144\n",
       "lat        144\n",
       "dtype: int64"
      ]
     },
     "execution_count": 7,
     "metadata": {},
     "output_type": "execute_result"
    }
   ],
   "source": [
    "df.isnull().sum() #check sum of nan fro columns"
   ]
  },
  {
   "cell_type": "code",
   "execution_count": 8,
   "metadata": {},
   "outputs": [],
   "source": [
    "df = df.dropna() #rm nan value for all df (rows)"
   ]
  },
  {
   "cell_type": "code",
   "execution_count": null,
   "metadata": {},
   "outputs": [
    {
     "data": {
      "text/plain": [
       "name       False\n",
       "time       False\n",
       "country    False\n",
       "state      False\n",
       "lon        False\n",
       "lat        False\n",
       "dtype: bool"
      ]
     },
     "execution_count": 9,
     "metadata": {},
     "output_type": "execute_result"
    }
   ],
   "source": [
    "df.isnull().any() #check"
   ]
  },
  {
   "cell_type": "code",
   "execution_count": null,
   "metadata": {},
   "outputs": [],
   "source": [
    "#df.loc[df['state'] == 'none', 'state'] = df.fillna(value=pd.np.nan, inplace=True) \n",
    "#it's only if would take nan into country that do not have a state"
   ]
  },
  {
   "cell_type": "code",
   "execution_count": null,
   "metadata": {},
   "outputs": [
    {
     "data": {
      "text/plain": [
       "name       0\n",
       "time       0\n",
       "country    0\n",
       "state      0\n",
       "lon        0\n",
       "lat        0\n",
       "dtype: int64"
      ]
     },
     "execution_count": 11,
     "metadata": {},
     "output_type": "execute_result"
    }
   ],
   "source": [
    "df.isnull().sum() #check"
   ]
  },
  {
   "cell_type": "code",
   "execution_count": null,
   "metadata": {
    "scrolled": true
   },
   "outputs": [
    {
     "data": {
      "text/plain": [
       "name       False\n",
       "time       False\n",
       "country    False\n",
       "state      False\n",
       "lon        False\n",
       "lat        False\n",
       "dtype: bool"
      ]
     },
     "execution_count": 12,
     "metadata": {},
     "output_type": "execute_result"
    }
   ],
   "source": [
    "df.isnull().any() #another check :/"
   ]
  },
  {
   "cell_type": "code",
   "execution_count": null,
   "metadata": {},
   "outputs": [
    {
     "data": {
      "text/plain": [
       "name            0\n",
       "time            0\n",
       "country         0\n",
       "state           0\n",
       "lon            98\n",
       "lat        182224\n",
       "dtype: int64"
      ]
     },
     "execution_count": 13,
     "metadata": {},
     "output_type": "execute_result"
    }
   ],
   "source": [
    "#same method for cheò nan value into coordinates\n",
    "df['lon'] = df['lon'].str.lower()\n",
    "df['lat'] = df['lat'].str.lower()\n",
    "df.loc[df['lon'] == 'none', 'lon'] = df.fillna(value=pd.np.nan, inplace=True)\n",
    "df.loc[df['lat'] == 'none', 'lat'] = df.fillna(value=pd.np.nan, inplace=True)\n",
    "df.isnull().sum()"
   ]
  },
  {
   "cell_type": "code",
   "execution_count": null,
   "metadata": {
    "scrolled": true
   },
   "outputs": [
    {
     "data": {
      "text/plain": [
       "name       0\n",
       "time       0\n",
       "country    0\n",
       "state      0\n",
       "lon        0\n",
       "lat        0\n",
       "dtype: int64"
      ]
     },
     "execution_count": 14,
     "metadata": {},
     "output_type": "execute_result"
    }
   ],
   "source": [
    "df = df.dropna() #remove this nan\n",
    "df.isnull().sum()"
   ]
  },
  {
   "cell_type": "code",
   "execution_count": null,
   "metadata": {
    "scrolled": true
   },
   "outputs": [
    {
     "data": {
      "text/html": [
       "<div>\n",
       "<style scoped>\n",
       "    .dataframe tbody tr th:only-of-type {\n",
       "        vertical-align: middle;\n",
       "    }\n",
       "\n",
       "    .dataframe tbody tr th {\n",
       "        vertical-align: top;\n",
       "    }\n",
       "\n",
       "    .dataframe thead th {\n",
       "        text-align: right;\n",
       "    }\n",
       "</style>\n",
       "<table border=\"1\" class=\"dataframe\">\n",
       "  <thead>\n",
       "    <tr style=\"text-align: right;\">\n",
       "      <th></th>\n",
       "      <th>name</th>\n",
       "      <th>time</th>\n",
       "      <th>country</th>\n",
       "      <th>state</th>\n",
       "      <th>lon</th>\n",
       "      <th>lat</th>\n",
       "    </tr>\n",
       "  </thead>\n",
       "  <tbody>\n",
       "    <tr>\n",
       "      <th>262139</th>\n",
       "      <td>The Big Muslim Variety Show 2019</td>\n",
       "      <td>1.555780e+12</td>\n",
       "      <td>gb</td>\n",
       "      <td>gb</td>\n",
       "      <td>-0.09</td>\n",
       "      <td>51.51</td>\n",
       "    </tr>\n",
       "    <tr>\n",
       "      <th>262140</th>\n",
       "      <td>The Big Picture: Review Q&amp;A</td>\n",
       "      <td>1.557077e+12</td>\n",
       "      <td>us</td>\n",
       "      <td>ca</td>\n",
       "      <td>-118.29</td>\n",
       "      <td>34.17</td>\n",
       "    </tr>\n",
       "    <tr>\n",
       "      <th>262141</th>\n",
       "      <td>The Big Picture: Review Q&amp;A</td>\n",
       "      <td>1.557076e+12</td>\n",
       "      <td>us</td>\n",
       "      <td>ca</td>\n",
       "      <td>-118.05</td>\n",
       "      <td>34.16</td>\n",
       "    </tr>\n",
       "    <tr>\n",
       "      <th>262142</th>\n",
       "      <td>The Big Results Guide : Your key to digital ma...</td>\n",
       "      <td>1.556154e+12</td>\n",
       "      <td>us</td>\n",
       "      <td>nv</td>\n",
       "      <td>-119.81</td>\n",
       "      <td>39.53</td>\n",
       "    </tr>\n",
       "    <tr>\n",
       "      <th>262143</th>\n",
       "      <td>The Big Return-Badminton in London - Midweek  ...</td>\n",
       "      <td>1.555525e+12</td>\n",
       "      <td>gb</td>\n",
       "      <td>gb</td>\n",
       "      <td>-0.22</td>\n",
       "      <td>51.52</td>\n",
       "    </tr>\n",
       "  </tbody>\n",
       "</table>\n",
       "</div>"
      ],
      "text/plain": [
       "                                                     name          time  \\\n",
       "262139                   The Big Muslim Variety Show 2019  1.555780e+12   \n",
       "262140                        The Big Picture: Review Q&A  1.557077e+12   \n",
       "262141                        The Big Picture: Review Q&A  1.557076e+12   \n",
       "262142  The Big Results Guide : Your key to digital ma...  1.556154e+12   \n",
       "262143  The Big Return-Badminton in London - Midweek  ...  1.555525e+12   \n",
       "\n",
       "       country state      lon    lat  \n",
       "262139      gb    gb    -0.09  51.51  \n",
       "262140      us    ca  -118.29  34.17  \n",
       "262141      us    ca  -118.05  34.16  \n",
       "262142      us    nv  -119.81  39.53  \n",
       "262143      gb    gb    -0.22  51.52  "
      ]
     },
     "execution_count": 15,
     "metadata": {},
     "output_type": "execute_result"
    }
   ],
   "source": [
    "df.tail() #df clean"
   ]
  },
  {
   "cell_type": "code",
   "execution_count": null,
   "metadata": {
    "scrolled": true
   },
   "outputs": [
    {
     "data": {
      "text/plain": [
       "name        object\n",
       "time       float64\n",
       "country     object\n",
       "state       object\n",
       "lon        float64\n",
       "lat        float64\n",
       "dtype: object"
      ]
     },
     "execution_count": 16,
     "metadata": {},
     "output_type": "execute_result"
    }
   ],
   "source": [
    "df['lon'] = df['lon'].astype(float) #convert coordinates into float for problem into cell below (timezonefinder)\n",
    "df['lat'] = df['lat'].astype(float)\n",
    "df.dtypes"
   ]
  },
  {
   "cell_type": "code",
   "execution_count": null,
   "metadata": {},
   "outputs": [],
   "source": [
    "df = df[[c for c in df if c not in ['lat','lon']] + ['lat','lon']] #change order of column for best position of lat and lng"
   ]
  },
  {
   "cell_type": "code",
   "execution_count": null,
   "metadata": {},
   "outputs": [],
   "source": [
    "df = df.reset_index(drop=True) #reset index for resolve eroor of out-bounded"
   ]
  },
  {
   "cell_type": "code",
   "execution_count": null,
   "metadata": {},
   "outputs": [],
   "source": [
    "tf = timezonefinder.TimezoneFinder() #defining time zones on lat, long data\n",
    "df['timezone_str'] = \"nan\"\n",
    "count = 0\n",
    "start = time.time()\n",
    "for line in df.itertuples():\n",
    "    count+=1\n",
    "    try:\n",
    "        df.timezone_str.at[line.Index] = tf.timezone_at(lat = df.iloc[line.Index]['lat'],\n",
    "                                                          lng = df.iloc[line.Index]['lon'])\n",
    "    except Exception as e:\n",
    "        print(e)\n",
    "        break\n",
    "    #if count == 10:\n",
    "        #break\n",
    "end = time.time()\n",
    "print(\"task completed in \"+str((end-start)/60)+\" minutes\")"
   ]
  },
  {
   "cell_type": "code",
   "execution_count": null,
   "metadata": {
    "scrolled": false
   },
   "outputs": [],
   "source": [
    "df[555:565] #check"
   ]
  },
  {
   "cell_type": "code",
   "execution_count": null,
   "metadata": {},
   "outputs": [],
   "source": [
    "df.dtypes"
   ]
  },
  {
   "cell_type": "code",
   "execution_count": null,
   "metadata": {},
   "outputs": [],
   "source": [
    "#this step is dated (only for convert apoc in neo)\n",
    "#df['time'] = pd.to_datetime(df['time']) #convert time (object) into datettime type (needed fro convert after into timestamp)"
   ]
  },
  {
   "cell_type": "code",
   "execution_count": null,
   "metadata": {},
   "outputs": [],
   "source": [
    "##this step is dated (only for convert apoc in neo)\n",
    "'''df['timestamp'] = df.fillna(value=pd.np.nan, inplace=True) #fill with nan value\n",
    "start = time.time()\n",
    "count = 0\n",
    "for line in df.itertuples():\n",
    "    count+=1\n",
    "    try:\n",
    "        df['timestamp'].at[line.Index] = dt.timestamp(df.iloc[line.Index]['time'])\n",
    "    except Exception as e:\n",
    "        print(e)\n",
    "        break\n",
    "    #if count == 100:\n",
    "        #break\n",
    "end = time.time()\n",
    "print('task completed in '+str((end-start)/60)+' minutes')'''"
   ]
  },
  {
   "cell_type": "code",
   "execution_count": null,
   "metadata": {
    "scrolled": true
   },
   "outputs": [],
   "source": [
    "df.head(10) #check"
   ]
  },
  {
   "cell_type": "code",
   "execution_count": null,
   "metadata": {},
   "outputs": [],
   "source": [
    "def rounder(t): #this function round the time to nearest hour\n",
    "    if t.minute >= 30:\n",
    "        if t.hour == 23:\n",
    "            return t.replace(second=0, microsecond=0, minute=0, hour=0)\n",
    "        else:\n",
    "            return t.replace(second=0, microsecond=0, minute=0, hour= t.hour+1)\n",
    "    else:\n",
    "        return t.replace(second=0, microsecond=0, minute=0)"
   ]
  },
  {
   "cell_type": "code",
   "execution_count": null,
   "metadata": {},
   "outputs": [],
   "source": [
    "df['datetime_timezoned'] = df.fillna(value=pd.np.nan, inplace=True) #fill with nan value"
   ]
  },
  {
   "cell_type": "code",
   "execution_count": null,
   "metadata": {},
   "outputs": [],
   "source": [
    "df['datetime_timezoned'] = df['datetime_timezoned'].astype(object) #convert for resolve error in the cell above (should not be a number)\n",
    "df.dtypes"
   ]
  },
  {
   "cell_type": "code",
   "execution_count": null,
   "metadata": {
    "scrolled": true
   },
   "outputs": [],
   "source": [
    "start = time.time()\n",
    "count = 0\n",
    "for line in df.itertuples():\n",
    "    count+=1\n",
    "    try:\n",
    "        df.datetime_timezoned.at[line.Index] = rounder((dt.fromtimestamp\n",
    "                                                   (timestamp = (df.iloc[line.Index]['time'])/1000,\n",
    "                                                    tz = pytz.timezone(df.iloc[line.Index]['timezone_str'])\n",
    "                                                   ))).strftime(\"%d/%m/%Y %H:%M:%S\")\n",
    "    except Exception as e:\n",
    "        print(e)\n",
    "        break\n",
    "    #if count == 100:\n",
    "        #break\n",
    "end = time.time()\n",
    "print('task completed in '+str((end-start)/60)+' minutes')"
   ]
  },
  {
   "cell_type": "code",
   "execution_count": null,
   "metadata": {
    "scrolled": true
   },
   "outputs": [],
   "source": [
    "df = df[[c for c in df if c not in ['timezone_str','time','datetime_timezoned']] + ['timezone_str','time','datetime_timezoned']]\n",
    "df.head(10) #re-order column"
   ]
  },
  {
   "cell_type": "code",
   "execution_count": null,
   "metadata": {},
   "outputs": [],
   "source": [
    "df.to_csv('I:/Massi/Documents/GitHub/NeoMeetup/csv/exported_queries/Distribuzione_temporale_eventi_fix.csv') #csv"
   ]
  },
  {
   "cell_type": "code",
   "execution_count": null,
   "metadata": {},
   "outputs": [],
   "source": [
    "end_fin = time.time()\n",
    "print(\"script completed in \"+str((end_fin-start_ini)/60)+\" minutes\")"
   ]
  }
 ],
 "metadata": {
  "kernelspec": {
   "display_name": "Python 3",
   "language": "python",
   "name": "python3"
  },
  "language_info": {
   "codemirror_mode": {
    "name": "ipython",
    "version": 3
   },
   "file_extension": ".py",
   "mimetype": "text/x-python",
   "name": "python",
   "nbconvert_exporter": "python",
   "pygments_lexer": "ipython3",
   "version": "3.6.4"
  }
 },
 "nbformat": 4,
 "nbformat_minor": 2
}
