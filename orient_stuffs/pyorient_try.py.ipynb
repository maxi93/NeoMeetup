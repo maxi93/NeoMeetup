{
 "cells": [
  {
   "cell_type": "code",
   "execution_count": 1,
   "metadata": {},
   "outputs": [],
   "source": [
    "from __future__ import print_function\n",
    "\n",
    "import pandas as pd\n",
    "import subprocess\n",
    "import time\n"
   ]
  },
  {
   "cell_type": "code",
   "execution_count": 2,
   "metadata": {},
   "outputs": [],
   "source": [
    "try:\n",
    "    import pyorient\n",
    "except ImportError as e:\n",
    "    #process = subprocess.Popen(\"pip install --user pyorient\".split(), stdout=subprocess.PIPE)\n",
    "    process = subprocess.Popen(\"pip install git+https://github.com/DBertazioli/pyorient --user\".split(), stdout=subprocess.PIPE)\n",
    "\n",
    "    output, error = process.communicate()\n",
    "    print(output, \"error = {}\".format(error), e)\n",
    "    import pyorient"
   ]
  },
  {
   "cell_type": "code",
   "execution_count": 3,
   "metadata": {},
   "outputs": [],
   "source": [
    "db=\"neomeetup1\"\n",
    "my_auth=\"root\""
   ]
  },
  {
   "cell_type": "code",
   "execution_count": 4,
   "metadata": {},
   "outputs": [],
   "source": [
    "client = pyorient.OrientDB(\"10.9.13.4\", 7687)\n",
    "session_id = client.connect(my_auth,my_auth)"
   ]
  },
  {
   "cell_type": "code",
   "execution_count": 5,
   "metadata": {},
   "outputs": [],
   "source": [
    "#useful funct\n",
    "def reset_db(client, name):\n",
    "\n",
    "    # Remove Old Database\n",
    "    client.db_drop(name)\n",
    "\n",
    "    # Create New Database\n",
    "    try:\n",
    "        client.db_create(\n",
    "           db,\n",
    "           pyorient.DB_TYPE_GRAPH,\n",
    "           pyorient.STORAGE_TYPE_PLOCAL)\n",
    "       #logging.info(\"neomeetup1 Database Created.\")\n",
    "    except pyorient.PyOrientException as err:\n",
    "       #logging.critical(\n",
    "       #   \"Failed to create neomeetup DB: %\" \n",
    "       #   % err)\n",
    "        print(err, \"\\n err while resetting\")\n",
    "        \n",
    "def _my_callback(for_every_record):\n",
    "    print(for_every_record)        "
   ]
  },
  {
   "cell_type": "code",
   "execution_count": 6,
   "metadata": {},
   "outputs": [
    {
     "name": "stdout",
     "output_type": "stream",
     "text": [
      "opening db: neomeetup1\n"
     ]
    }
   ],
   "source": [
    "if client.db_exists(db):\n",
    "   # Open Database\n",
    "    print(\"opening db: {}\".format(db))\n",
    "    try:\n",
    "        client.db_open(db, my_auth, my_auth)\n",
    "    except pyorient.PyOrientException as err:\n",
    "        print(err)\n",
    "        \n",
    "else:\n",
    "    try:\n",
    "        client.db_create(\n",
    "           db,\n",
    "           pyorient.DB_TYPE_GRAPH,\n",
    "           pyorient.STORAGE_TYPE_PLOCAL)\n",
    "       #logging.info(\"neomeetup1 Database Created.\")\n",
    "    except pyorient.PyOrientException as err:\n",
    "       #logging.critical(\n",
    "       #   \"Failed to create neomeetup DB: %\" \n",
    "       #   % err)\n",
    "        print(err)"
   ]
  },
  {
   "cell_type": "code",
   "execution_count": 7,
   "metadata": {},
   "outputs": [
    {
     "data": {
      "text/html": [
       "<div>\n",
       "<style scoped>\n",
       "    .dataframe tbody tr th:only-of-type {\n",
       "        vertical-align: middle;\n",
       "    }\n",
       "\n",
       "    .dataframe tbody tr th {\n",
       "        vertical-align: top;\n",
       "    }\n",
       "\n",
       "    .dataframe thead th {\n",
       "        text-align: right;\n",
       "    }\n",
       "</style>\n",
       "<table border=\"1\" class=\"dataframe\">\n",
       "  <thead>\n",
       "    <tr style=\"text-align: right;\">\n",
       "      <th></th>\n",
       "      <th>member_id</th>\n",
       "      <th>member_name</th>\n",
       "    </tr>\n",
       "  </thead>\n",
       "  <tbody>\n",
       "    <tr>\n",
       "      <th>0</th>\n",
       "      <td>220200963</td>\n",
       "      <td>Sarah Roxas</td>\n",
       "    </tr>\n",
       "    <tr>\n",
       "      <th>1</th>\n",
       "      <td>253755396</td>\n",
       "      <td>Lupco Trpeski</td>\n",
       "    </tr>\n",
       "    <tr>\n",
       "      <th>2</th>\n",
       "      <td>272979286</td>\n",
       "      <td>Malikmika</td>\n",
       "    </tr>\n",
       "    <tr>\n",
       "      <th>3</th>\n",
       "      <td>6</td>\n",
       "      <td>Scott Heiferman</td>\n",
       "    </tr>\n",
       "    <tr>\n",
       "      <th>4</th>\n",
       "      <td>232783879</td>\n",
       "      <td>Luis Eduardo Saltini</td>\n",
       "    </tr>\n",
       "  </tbody>\n",
       "</table>\n",
       "</div>"
      ],
      "text/plain": [
       "   member_id           member_name\n",
       "0  220200963           Sarah Roxas\n",
       "1  253755396         Lupco Trpeski\n",
       "2  272979286             Malikmika\n",
       "3          6       Scott Heiferman\n",
       "4  232783879  Luis Eduardo Saltini"
      ]
     },
     "execution_count": 7,
     "metadata": {},
     "output_type": "execute_result"
    }
   ],
   "source": [
    "df=pd.read_csv(\"../csv/struttura/member.csv\")\n",
    "df.head()"
   ]
  },
  {
   "cell_type": "code",
   "execution_count": 8,
   "metadata": {},
   "outputs": [],
   "source": [
    "reset_db(client, db)\n",
    "try:\n",
    "    client.command( \"create class Member extends V\" )\n",
    "except pyorient.PyOrientException as e:\n",
    "    print(e)"
   ]
  },
  {
   "cell_type": "code",
   "execution_count": 9,
   "metadata": {},
   "outputs": [
    {
     "name": "stdout",
     "output_type": "stream",
     "text": [
      "reached line 10 in 0.3294241428375244\n"
     ]
    }
   ],
   "source": [
    "start_t=time.time()\n",
    "n=10\n",
    "debug=True\n",
    "n_start=1\n",
    "for line in df.itertuples():\n",
    "    if debug:\n",
    "        if line.Index > n_start:\n",
    "            client.command(\n",
    "       \"create VERTEX Member set member_id = {}, member_name = '{}'\".format(line.member_id, str(line.member_name).replace(\"\\\"\", \"\").replace(\"'\",\"\"))\n",
    "            )\n",
    "    else:\n",
    "        client.command(\n",
    "       \"create VERTEX Member set member_id = {}, member_name = '{}'\".format(line.member_id, str(line.member_name).replace(\"\\\"\", \"\").replace(\"'\",\"\"))\n",
    "            )\n",
    "    if line.Index == n:\n",
    "        print(\"reached line {} in {}\".format(n, time.time()-start_t))\n",
    "        break"
   ]
  },
  {
   "cell_type": "code",
   "execution_count": 10,
   "metadata": {},
   "outputs": [
    {
     "data": {
      "text/plain": [
       "[<pyorient.otypes.OrientRecord at 0x7f61c4f28860>]"
      ]
     },
     "execution_count": 10,
     "metadata": {},
     "output_type": "execute_result"
    }
   ],
   "source": [
    "result = client.command(\"select from Member where member_id = 6 \", 100)\n",
    "result #lol useless but will find out"
   ]
  },
  {
   "cell_type": "code",
   "execution_count": 11,
   "metadata": {},
   "outputs": [
    {
     "name": "stdout",
     "output_type": "stream",
     "text": [
      "{'@Member':{'member_id': 272979286, 'member_name': 'Malikmika'},'version':1,'rid':'#17:0'}\n",
      "{'@Member':{'member_id': 260046859, 'member_name': 'Sikares Pholhem'},'version':1,'rid':'#17:1'}\n",
      "{'@Member':{'member_id': 62914582, 'member_name': 'Lydia W.'},'version':1,'rid':'#17:2'}\n",
      "{'@Member':{'member_id': 6, 'member_name': 'Scott Heiferman'},'version':1,'rid':'#18:0'}\n",
      "{'@Member':{'member_id': 278921232, 'member_name': 'diana'},'version':1,'rid':'#18:1'}\n",
      "{'@Member':{'member_id': 232783879, 'member_name': 'Luis Eduardo Saltini'},'version':1,'rid':'#19:0'}\n",
      "{'@Member':{'member_id': 277173592, 'member_name': 'Josh Johnson'},'version':1,'rid':'#19:1'}\n",
      "{'@Member':{'member_id': 138412042, 'member_name': 'Brad'},'version':1,'rid':'#20:0'}\n",
      "{'@Member':{'member_id': 77594642, 'member_name': 'Stephanie Franco'},'version':1,'rid':'#20:1'}\n"
     ]
    }
   ],
   "source": [
    "\n",
    "\n",
    "result = client.query_async(\"select from Member\", 10, '*:0', _my_callback)"
   ]
  },
  {
   "cell_type": "code",
   "execution_count": null,
   "metadata": {},
   "outputs": [
    {
     "name": "stdout",
     "output_type": "stream",
     "text": [
      "line is  360000\n",
      "committing\n",
      "committed in 0.03893327713012695 s\n",
      "line is  370000\n",
      "committing\n",
      "committed in 2.3277628421783447 s\n",
      "line is  380000\n",
      "committing\n",
      "committed in 2.333251714706421 s\n",
      "line is  390000\n",
      "committing\n",
      "committed in 2.1816258430480957 s\n",
      "line is  400000\n",
      "committing\n",
      "committed in 2.3253912925720215 s\n",
      "line is  410000\n",
      "committing\n",
      "committed in 2.2989134788513184 s\n",
      "line is  420000\n",
      "committing\n",
      "committed in 2.218219757080078 s\n",
      "line is  430000\n",
      "committing\n",
      "committed in 2.208942174911499 s\n",
      "line is  440000\n",
      "committing\n",
      "committed in 2.920119524002075 s\n",
      "line is  450000\n",
      "committing\n",
      "committed in 2.2335426807403564 s\n",
      "line is  460000\n",
      "committing\n",
      "committed in 2.8273231983184814 s\n",
      "line is  470000\n",
      "committing\n",
      "committed in 2.208495616912842 s\n",
      "line is  480000\n",
      "committing\n",
      "committed in 9.496097326278687 s\n",
      "line is  490000\n",
      "committing\n",
      "committed in 2.5114426612854004 s\n",
      "line is  500000\n",
      "committing\n",
      "committed in 2.5195000171661377 s\n",
      "line is  510000\n",
      "committing\n",
      "committed in 2.7344155311584473 s\n",
      "line is  520000\n",
      "committing\n",
      "committed in 2.723891496658325 s\n",
      "line is  530000\n",
      "committing\n",
      "committed in 2.6163647174835205 s\n",
      "line is  540000\n",
      "committing\n",
      "committed in 2.7180228233337402 s\n",
      "line is  550000\n",
      "committing\n",
      "committed in 2.7139170169830322 s\n",
      "line is  560000\n",
      "committing\n",
      "committed in 2.715009927749634 s\n",
      "line is  570000\n",
      "committing\n",
      "committed in 2.7174572944641113 s\n",
      "line is  580000\n",
      "committing\n",
      "committed in 2.7190873622894287 s\n",
      "line is  590000\n",
      "committing\n",
      "committed in 2.717034101486206 s\n",
      "line is  600000\n",
      "committing\n",
      "committed in 2.738682985305786 s\n",
      "line is  610000\n",
      "committing\n",
      "committed in 2.7287709712982178 s\n",
      "line is  620000\n",
      "committing\n",
      "committed in 2.6413986682891846 s\n",
      "line is  630000\n",
      "committing\n",
      "committed in 2.637620449066162 s\n",
      "line is  640000\n",
      "committing\n"
     ]
    }
   ],
   "source": [
    "debug=True\n",
    "#debug1=True\n",
    "debug1=False\n",
    "n=50000\n",
    "start_t=time.time()\n",
    "batch_query=['begin']\n",
    "for line in df.itertuples():\n",
    "    if not debug1:\n",
    "        query=\"create VERTEX Member set member_id = {}, member_name = '{}'\".format(line.member_id, str(line.member_name).replace(\"\\\"\", \"\").replace(\"'\",\"\"))\n",
    "        query.encode(\"utf-8\")\n",
    "        batch_query.append(query)\n",
    "    \n",
    "        if line.Index is not 0:\n",
    "            if line.Index % n == 0:\n",
    "                batch_query.append(\"commit retry 100\")\n",
    "                cmd=';'.join(batch_query)\n",
    "                print(\"line is \", line.Index)\n",
    "                print(\"committing\")\n",
    "                m_time=time.time()\n",
    "                client.batch(cmd)\n",
    "                print(\"committed in {} s\".format((time.time()-m_time)))\n",
    "\n",
    "                batch_query=['begin']\n",
    "    else:\n",
    "        if line.Index >= 360000:\n",
    "            query=\"create VERTEX Member set member_id = {}, member_name = '{}'\".format(line.member_id, str(line.member_name).replace(\"\\\"\", \"\").replace(\"'\",\"\"))\n",
    "            query.encode(\"utf-8\")\n",
    "            batch_query.append(query)\n",
    "\n",
    "            if line.Index % n == 0:\n",
    "                batch_query.append(\"commit retry 100\")\n",
    "                cmd=';'.join(batch_query)\n",
    "                print(\"line is \", line.Index)\n",
    "                print(\"committing\")\n",
    "                m_time=time.time()\n",
    "                client.batch(cmd)\n",
    "                print(\"committed in {} s\".format((time.time()-m_time)))\n",
    "                \n",
    "                batch_query=['begin']\n",
    "    if debug:\n",
    "        if not debug1:\n",
    "            if line.Index == 2000:\n",
    "                print(\"reached line {} in {} s\".format(line.Index, (time.time()-start_t)*1000))\n",
    "                print(\"breaking\")\n",
    "                break\n",
    "\n",
    "if not debug:\n",
    "    print(\"reached line {} in {} s\".format(len(df), (time.time()-start_t)*1000))\n",
    "\n",
    "#batch_query.append(\"commit retry 100\")\n",
    "#cmd=';'.join(batch_query)\n",
    "#cmd"
   ]
  },
  {
   "cell_type": "code",
   "execution_count": null,
   "metadata": {
    "scrolled": true
   },
   "outputs": [],
   "source": [
    "start_t=time.time()\n",
    "client.batch(cmd)\n",
    "time.time()-start_t"
   ]
  },
  {
   "cell_type": "code",
   "execution_count": null,
   "metadata": {
    "scrolled": true
   },
   "outputs": [],
   "source": [
    "len(df)"
   ]
  },
  {
   "cell_type": "code",
   "execution_count": null,
   "metadata": {},
   "outputs": [],
   "source": [
    "df.head(360165).tail(6)"
   ]
  },
  {
   "cell_type": "code",
   "execution_count": null,
   "metadata": {},
   "outputs": [],
   "source": []
  }
 ],
 "metadata": {
  "kernelspec": {
   "display_name": "Python 3",
   "language": "python",
   "name": "python3"
  },
  "language_info": {
   "codemirror_mode": {
    "name": "ipython",
    "version": 3
   },
   "file_extension": ".py",
   "mimetype": "text/x-python",
   "name": "python",
   "nbconvert_exporter": "python",
   "pygments_lexer": "ipython3",
   "version": "3.6.7"
  }
 },
 "nbformat": 4,
 "nbformat_minor": 2
}
